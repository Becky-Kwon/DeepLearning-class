{
 "cells": [
  {
   "cell_type": "markdown",
   "metadata": {
    "id": "2VjualBIB5gv"
   },
   "source": [
    "This is a companion notebook for the book [Deep Learning with Python, Second Edition](https://www.manning.com/books/deep-learning-with-python-second-edition?a_aid=keras&a_bid=76564dff). For readability, it only contains runnable code blocks and section titles, and omits everything else in the book: text paragraphs, figures, and pseudocode.\n",
    "\n",
    "**If you want to be able to follow what's going on, I recommend reading the notebook side by side with your copy of the book.**\n",
    "\n",
    "This notebook was generated for TensorFlow 2.6."
   ]
  },
  {
   "cell_type": "markdown",
   "metadata": {
    "id": "PrXrzBWQB5g0"
   },
   "source": [
    "# Fundamentals of machine learning"
   ]
  },
  {
   "cell_type": "markdown",
   "metadata": {
    "id": "Cmuw6zFkB5g1"
   },
   "source": [
    "## Generalization: The goal of machine learning"
   ]
  },
  {
   "cell_type": "markdown",
   "metadata": {
    "id": "Cjj3PTPUB5g1"
   },
   "source": [
    "### Underfitting and overfitting"
   ]
  },
  {
   "cell_type": "markdown",
   "metadata": {
    "id": "IfYoYLXnB5g1"
   },
   "source": [
    "#### Noisy training data"
   ]
  },
  {
   "cell_type": "markdown",
   "metadata": {
    "id": "g-Z5JWHdB5g2"
   },
   "source": [
    "#### Ambiguous features"
   ]
  },
  {
   "cell_type": "markdown",
   "metadata": {
    "id": "L8k6XoXaB5g2"
   },
   "source": [
    "#### Rare features and spurious correlations"
   ]
  },
  {
   "cell_type": "markdown",
   "metadata": {
    "id": "pqoeYnueB5g3"
   },
   "source": [
    "**Adding white-noise channels or all-zeros channels to MNIST**"
   ]
  },
  {
   "cell_type": "code",
   "execution_count": 16,
   "metadata": {
    "id": "soPhSID2B5g3"
   },
   "outputs": [],
   "source": [
    "from tensorflow.keras.datasets import mnist\n",
    "import numpy as np\n",
    "\n",
    "(train_images, train_labels), _ = mnist.load_data()\n",
    "train_images = train_images.reshape((60000, 28 * 28))\n",
    "train_images = train_images.astype(\"float32\") / 255\n",
    "\n",
    "train_images_with_noise_channels = np.concatenate(\n",
    "    [train_images, np.random.random((len(train_images), 784))], axis=1)\n",
    "\n",
    "train_images_with_zeros_channels = np.concatenate(\n",
    "    [train_images, np.zeros((len(train_images), 784))], axis=1)"
   ]
  },
  {
   "cell_type": "markdown",
   "metadata": {
    "id": "dfaqgC10B5g5"
   },
   "source": [
    "**Training the same model on MNIST data with noise channels or all-zero channels**"
   ]
  },
  {
   "cell_type": "code",
   "execution_count": 17,
   "metadata": {
    "colab": {
     "base_uri": "https://localhost:8080/"
    },
    "id": "wwKPKE0EB5g5",
    "outputId": "addda1e3-36eb-4b28-91bb-fe8276aafa0d"
   },
   "outputs": [
    {
     "name": "stdout",
     "output_type": "stream",
     "text": [
      "Epoch 1/10\n",
      "375/375 [==============================] - 3s 7ms/step - loss: 0.6281 - accuracy: 0.8124 - val_loss: 0.2473 - val_accuracy: 0.9287\n",
      "Epoch 2/10\n",
      "375/375 [==============================] - 2s 5ms/step - loss: 0.2491 - accuracy: 0.9227 - val_loss: 0.2044 - val_accuracy: 0.9373\n",
      "Epoch 3/10\n",
      "375/375 [==============================] - 2s 5ms/step - loss: 0.1623 - accuracy: 0.9503 - val_loss: 0.1476 - val_accuracy: 0.9557\n",
      "Epoch 4/10\n",
      "375/375 [==============================] - 2s 5ms/step - loss: 0.1147 - accuracy: 0.9638 - val_loss: 0.1249 - val_accuracy: 0.9629\n",
      "Epoch 5/10\n",
      "375/375 [==============================] - 2s 5ms/step - loss: 0.0832 - accuracy: 0.9733 - val_loss: 0.1535 - val_accuracy: 0.9558\n",
      "Epoch 6/10\n",
      "375/375 [==============================] - 2s 5ms/step - loss: 0.0609 - accuracy: 0.9809 - val_loss: 0.2632 - val_accuracy: 0.9272\n",
      "Epoch 7/10\n",
      "375/375 [==============================] - 1s 3ms/step - loss: 0.0457 - accuracy: 0.9852 - val_loss: 0.1149 - val_accuracy: 0.9695\n",
      "Epoch 8/10\n",
      "375/375 [==============================] - 1s 3ms/step - loss: 0.0337 - accuracy: 0.9892 - val_loss: 0.1414 - val_accuracy: 0.9653\n",
      "Epoch 9/10\n",
      "375/375 [==============================] - 1s 4ms/step - loss: 0.0257 - accuracy: 0.9917 - val_loss: 0.1315 - val_accuracy: 0.9692\n",
      "Epoch 10/10\n",
      "375/375 [==============================] - 2s 5ms/step - loss: 0.0202 - accuracy: 0.9933 - val_loss: 0.1517 - val_accuracy: 0.9665\n",
      "Epoch 1/10\n",
      "375/375 [==============================] - 4s 7ms/step - loss: 0.2857 - accuracy: 0.9175 - val_loss: 0.1502 - val_accuracy: 0.9578\n",
      "Epoch 2/10\n",
      "375/375 [==============================] - 2s 5ms/step - loss: 0.1174 - accuracy: 0.9651 - val_loss: 0.1039 - val_accuracy: 0.9676\n",
      "Epoch 3/10\n",
      "375/375 [==============================] - 1s 3ms/step - loss: 0.0772 - accuracy: 0.9769 - val_loss: 0.0871 - val_accuracy: 0.9749\n",
      "Epoch 4/10\n",
      "375/375 [==============================] - 1s 3ms/step - loss: 0.0556 - accuracy: 0.9835 - val_loss: 0.0860 - val_accuracy: 0.9768\n",
      "Epoch 5/10\n",
      "375/375 [==============================] - 1s 3ms/step - loss: 0.0411 - accuracy: 0.9879 - val_loss: 0.0835 - val_accuracy: 0.9772\n",
      "Epoch 6/10\n",
      "375/375 [==============================] - 1s 3ms/step - loss: 0.0314 - accuracy: 0.9905 - val_loss: 0.0776 - val_accuracy: 0.9767\n",
      "Epoch 7/10\n",
      "375/375 [==============================] - 1s 3ms/step - loss: 0.0233 - accuracy: 0.9931 - val_loss: 0.0930 - val_accuracy: 0.9769\n",
      "Epoch 8/10\n",
      "375/375 [==============================] - 1s 3ms/step - loss: 0.0182 - accuracy: 0.9945 - val_loss: 0.0811 - val_accuracy: 0.9810\n",
      "Epoch 9/10\n",
      "375/375 [==============================] - 1s 3ms/step - loss: 0.0137 - accuracy: 0.9961 - val_loss: 0.0879 - val_accuracy: 0.9776\n",
      "Epoch 10/10\n",
      "375/375 [==============================] - 1s 3ms/step - loss: 0.0108 - accuracy: 0.9969 - val_loss: 0.0874 - val_accuracy: 0.9790\n"
     ]
    }
   ],
   "source": [
    "from tensorflow import keras\n",
    "from tensorflow.keras import layers\n",
    "\n",
    "def get_model():\n",
    "    model = keras.Sequential([\n",
    "        layers.Dense(512, activation=\"relu\"),\n",
    "        layers.Dense(10, activation=\"softmax\")\n",
    "    ])\n",
    "    model.compile(optimizer=\"rmsprop\",\n",
    "                  loss=\"sparse_categorical_crossentropy\",\n",
    "                  metrics=[\"accuracy\"])\n",
    "    return model\n",
    "\n",
    "model = get_model()\n",
    "history_noise = model.fit(\n",
    "    train_images_with_noise_channels, train_labels,\n",
    "    epochs=10,\n",
    "    batch_size=128,\n",
    "    validation_split=0.2)\n",
    "\n",
    "model = get_model()\n",
    "history_zeros = model.fit(\n",
    "    train_images_with_zeros_channels, train_labels,\n",
    "    epochs=10,\n",
    "    batch_size=128,\n",
    "    validation_split=0.2)"
   ]
  },
  {
   "cell_type": "markdown",
   "metadata": {
    "id": "qK-9UBeQB5g6"
   },
   "source": [
    "**Plotting a validation accuracy comparison**"
   ]
  },
  {
   "cell_type": "code",
   "execution_count": 18,
   "metadata": {
    "colab": {
     "base_uri": "https://localhost:8080/",
     "height": 313
    },
    "id": "zWYqzxCRB5g6",
    "outputId": "6e06683e-29bf-40e3-e523-7b546112fe19"
   },
   "outputs": [
    {
     "data": {
      "text/plain": [
       "<matplotlib.legend.Legend at 0x7fd92d04efd0>"
      ]
     },
     "execution_count": 18,
     "metadata": {},
     "output_type": "execute_result"
    },
    {
     "data": {
      "image/png": "[encoded data removed]",
      "text/plain": [
       "<Figure size 432x288 with 1 Axes>"
      ]
     },
     "metadata": {
      "needs_background": "light"
     },
     "output_type": "display_data"
    }
   ],
   "source": [
    "import matplotlib.pyplot as plt\n",
    "val_acc_noise = history_noise.history[\"val_accuracy\"]\n",
    "val_acc_zeros = history_zeros.history[\"val_accuracy\"]\n",
    "epochs = range(1, 11)\n",
    "plt.plot(epochs, val_acc_noise, \"b-\",\n",
    "         label=\"Validation accuracy with noise channels\")\n",
    "plt.plot(epochs, val_acc_zeros, \"b--\",\n",
    "         label=\"Validation accuracy with zeros channels\")\n",
    "plt.title(\"Effect of noise channels on validation accuracy\")\n",
    "plt.xlabel(\"Epochs\")\n",
    "plt.ylabel(\"Accuracy\")\n",
    "plt.legend()"
   ]
  },
  {
   "cell_type": "markdown",
   "metadata": {
    "id": "oUkcVFbSB5g6"
   },
   "source": [
    "### The nature of generalization in deep learning"
   ]
  },
  {
   "cell_type": "markdown",
   "metadata": {
    "id": "9RXvtbI5B5g7"
   },
   "source": [
    "**Fitting a MNIST model with randomly shuffled labels**"
   ]
  },
  {
   "cell_type": "code",
   "execution_count": 19,
   "metadata": {
    "colab": {
     "base_uri": "https://localhost:8080/"
    },
    "id": "BfI7MKDcB5g7",
    "outputId": "89dc3452-e725-43ad-ec1c-c5cff7eb6b5b"
   },
   "outputs": [
    {
     "name": "stdout",
     "output_type": "stream",
     "text": [
      "Epoch 1/100\n",
      "375/375 [==============================] - 2s 3ms/step - loss: 2.3179 - accuracy: 0.1040 - val_loss: 2.3058 - val_accuracy: 0.1049\n",
      "Epoch 2/100\n",
      "375/375 [==============================] - 1s 3ms/step - loss: 2.3003 - accuracy: 0.1176 - val_loss: 2.3132 - val_accuracy: 0.1045\n",
      "Epoch 3/100\n",
      "375/375 [==============================] - 1s 3ms/step - loss: 2.2893 - accuracy: 0.1285 - val_loss: 2.3188 - val_accuracy: 0.1058\n",
      "Epoch 4/100\n",
      "375/375 [==============================] - 1s 3ms/step - loss: 2.2754 - accuracy: 0.1410 - val_loss: 2.3272 - val_accuracy: 0.1077\n",
      "Epoch 5/100\n",
      "375/375 [==============================] - 1s 3ms/step - loss: 2.2581 - accuracy: 0.1535 - val_loss: 2.3379 - val_accuracy: 0.1022\n",
      "Epoch 6/100\n",
      "375/375 [==============================] - 1s 3ms/step - loss: 2.2361 - accuracy: 0.1672 - val_loss: 2.3567 - val_accuracy: 0.1047\n",
      "Epoch 7/100\n",
      "375/375 [==============================] - 1s 3ms/step - loss: 2.2109 - accuracy: 0.1846 - val_loss: 2.3630 - val_accuracy: 0.1013\n",
      "Epoch 8/100\n",
      "375/375 [==============================] - 1s 3ms/step - loss: 2.1826 - accuracy: 0.2004 - val_loss: 2.3908 - val_accuracy: 0.1047\n",
      "Epoch 9/100\n",
      "375/375 [==============================] - 1s 3ms/step - loss: 2.1525 - accuracy: 0.2175 - val_loss: 2.4071 - val_accuracy: 0.0996\n",
      "Epoch 10/100\n",
      "375/375 [==============================] - 1s 3ms/step - loss: 2.1220 - accuracy: 0.2338 - val_loss: 2.4284 - val_accuracy: 0.1011\n",
      "Epoch 11/100\n",
      "375/375 [==============================] - 1s 3ms/step - loss: 2.0879 - accuracy: 0.2479 - val_loss: 2.4542 - val_accuracy: 0.1046\n",
      "Epoch 12/100\n",
      "375/375 [==============================] - 1s 3ms/step - loss: 2.0539 - accuracy: 0.2633 - val_loss: 2.4912 - val_accuracy: 0.1018\n",
      "Epoch 13/100\n",
      "375/375 [==============================] - 1s 3ms/step - loss: 2.0206 - accuracy: 0.2795 - val_loss: 2.5168 - val_accuracy: 0.1003\n",
      "Epoch 14/100\n",
      "375/375 [==============================] - 1s 3ms/step - loss: 1.9854 - accuracy: 0.2943 - val_loss: 2.5362 - val_accuracy: 0.1047\n",
      "Epoch 15/100\n",
      "375/375 [==============================] - 1s 3ms/step - loss: 1.9507 - accuracy: 0.3095 - val_loss: 2.5693 - val_accuracy: 0.1061\n",
      "Epoch 16/100\n",
      "375/375 [==============================] - 1s 3ms/step - loss: 1.9161 - accuracy: 0.3223 - val_loss: 2.5932 - val_accuracy: 0.1028\n",
      "Epoch 17/100\n",
      "375/375 [==============================] - 1s 3ms/step - loss: 1.8818 - accuracy: 0.3360 - val_loss: 2.6382 - val_accuracy: 0.1052\n",
      "Epoch 18/100\n",
      "375/375 [==============================] - 1s 3ms/step - loss: 1.8475 - accuracy: 0.3510 - val_loss: 2.6603 - val_accuracy: 0.1063\n",
      "Epoch 19/100\n",
      "375/375 [==============================] - 1s 3ms/step - loss: 1.8138 - accuracy: 0.3637 - val_loss: 2.7052 - val_accuracy: 0.1016\n",
      "Epoch 20/100\n",
      "375/375 [==============================] - 1s 3ms/step - loss: 1.7804 - accuracy: 0.3791 - val_loss: 2.7381 - val_accuracy: 0.1039\n",
      "Epoch 21/100\n",
      "375/375 [==============================] - 1s 3ms/step - loss: 1.7496 - accuracy: 0.3887 - val_loss: 2.7794 - val_accuracy: 0.0987\n",
      "Epoch 22/100\n",
      "375/375 [==============================] - 1s 3ms/step - loss: 1.7169 - accuracy: 0.4037 - val_loss: 2.8078 - val_accuracy: 0.1024\n",
      "Epoch 23/100\n",
      "375/375 [==============================] - 1s 3ms/step - loss: 1.6856 - accuracy: 0.4148 - val_loss: 2.8576 - val_accuracy: 0.1031\n",
      "Epoch 24/100\n",
      "375/375 [==============================] - 1s 3ms/step - loss: 1.6552 - accuracy: 0.4226 - val_loss: 2.9115 - val_accuracy: 0.1003\n",
      "Epoch 25/100\n",
      "375/375 [==============================] - 1s 3ms/step - loss: 1.6267 - accuracy: 0.4405 - val_loss: 2.9358 - val_accuracy: 0.1018\n",
      "Epoch 26/100\n",
      "375/375 [==============================] - 1s 3ms/step - loss: 1.5977 - accuracy: 0.4496 - val_loss: 2.9788 - val_accuracy: 0.1028\n",
      "Epoch 27/100\n",
      "375/375 [==============================] - 1s 3ms/step - loss: 1.5676 - accuracy: 0.4602 - val_loss: 3.0164 - val_accuracy: 0.1029\n",
      "Epoch 28/100\n",
      "375/375 [==============================] - 1s 3ms/step - loss: 1.5431 - accuracy: 0.4707 - val_loss: 3.0514 - val_accuracy: 0.1037\n",
      "Epoch 29/100\n",
      "375/375 [==============================] - 1s 3ms/step - loss: 1.5137 - accuracy: 0.4806 - val_loss: 3.1288 - val_accuracy: 0.1041\n",
      "Epoch 30/100\n",
      "375/375 [==============================] - 1s 3ms/step - loss: 1.4865 - accuracy: 0.4905 - val_loss: 3.1536 - val_accuracy: 0.1018\n",
      "Epoch 31/100\n",
      "375/375 [==============================] - 1s 3ms/step - loss: 1.4621 - accuracy: 0.4996 - val_loss: 3.1957 - val_accuracy: 0.1041\n",
      "Epoch 32/100\n",
      "375/375 [==============================] - 1s 3ms/step - loss: 1.4363 - accuracy: 0.5100 - val_loss: 3.2487 - val_accuracy: 0.1024\n",
      "Epoch 33/100\n",
      "375/375 [==============================] - 1s 3ms/step - loss: 1.4111 - accuracy: 0.5171 - val_loss: 3.2779 - val_accuracy: 0.1028\n",
      "Epoch 34/100\n",
      "375/375 [==============================] - 1s 3ms/step - loss: 1.3855 - accuracy: 0.5283 - val_loss: 3.3322 - val_accuracy: 0.1007\n",
      "Epoch 35/100\n",
      "375/375 [==============================] - 1s 3ms/step - loss: 1.3624 - accuracy: 0.5333 - val_loss: 3.3878 - val_accuracy: 0.1033\n",
      "Epoch 36/100\n",
      "375/375 [==============================] - 1s 3ms/step - loss: 1.3412 - accuracy: 0.5445 - val_loss: 3.4348 - val_accuracy: 0.0982\n",
      "Epoch 37/100\n",
      "375/375 [==============================] - 1s 3ms/step - loss: 1.3171 - accuracy: 0.5501 - val_loss: 3.4588 - val_accuracy: 0.1023\n",
      "Epoch 38/100\n",
      "375/375 [==============================] - 1s 3ms/step - loss: 1.2972 - accuracy: 0.5598 - val_loss: 3.5192 - val_accuracy: 0.1018\n",
      "Epoch 39/100\n",
      "375/375 [==============================] - 1s 3ms/step - loss: 1.2732 - accuracy: 0.5680 - val_loss: 3.5785 - val_accuracy: 0.1015\n",
      "Epoch 40/100\n",
      "375/375 [==============================] - 1s 4ms/step - loss: 1.2510 - accuracy: 0.5770 - val_loss: 3.6411 - val_accuracy: 0.1013\n",
      "Epoch 41/100\n",
      "375/375 [==============================] - 1s 4ms/step - loss: 1.2331 - accuracy: 0.5819 - val_loss: 3.6840 - val_accuracy: 0.1002\n",
      "Epoch 42/100\n",
      "375/375 [==============================] - 1s 3ms/step - loss: 1.2123 - accuracy: 0.5927 - val_loss: 3.7452 - val_accuracy: 0.0987\n",
      "Epoch 43/100\n",
      "375/375 [==============================] - 1s 3ms/step - loss: 1.1905 - accuracy: 0.5980 - val_loss: 3.7729 - val_accuracy: 0.1013\n",
      "Epoch 44/100\n",
      "375/375 [==============================] - 1s 3ms/step - loss: 1.1724 - accuracy: 0.6057 - val_loss: 3.8391 - val_accuracy: 0.1010\n",
      "Epoch 45/100\n",
      "375/375 [==============================] - 1s 3ms/step - loss: 1.1548 - accuracy: 0.6097 - val_loss: 3.8718 - val_accuracy: 0.1032\n",
      "Epoch 46/100\n",
      "375/375 [==============================] - 1s 3ms/step - loss: 1.1349 - accuracy: 0.6179 - val_loss: 3.9384 - val_accuracy: 0.1044\n",
      "Epoch 47/100\n",
      "375/375 [==============================] - 1s 3ms/step - loss: 1.1162 - accuracy: 0.6255 - val_loss: 4.0004 - val_accuracy: 0.1021\n",
      "Epoch 48/100\n",
      "375/375 [==============================] - 1s 3ms/step - loss: 1.0981 - accuracy: 0.6308 - val_loss: 4.0274 - val_accuracy: 0.1047\n",
      "Epoch 49/100\n",
      "375/375 [==============================] - 1s 3ms/step - loss: 1.0796 - accuracy: 0.6370 - val_loss: 4.1165 - val_accuracy: 0.1056\n",
      "Epoch 50/100\n",
      "375/375 [==============================] - 1s 3ms/step - loss: 1.0630 - accuracy: 0.6444 - val_loss: 4.1364 - val_accuracy: 0.1042\n",
      "Epoch 51/100\n",
      "375/375 [==============================] - 1s 3ms/step - loss: 1.0472 - accuracy: 0.6502 - val_loss: 4.1933 - val_accuracy: 0.0990\n",
      "Epoch 52/100\n",
      "375/375 [==============================] - 1s 3ms/step - loss: 1.0302 - accuracy: 0.6546 - val_loss: 4.2650 - val_accuracy: 0.1042\n",
      "Epoch 53/100\n",
      "375/375 [==============================] - 1s 3ms/step - loss: 1.0137 - accuracy: 0.6613 - val_loss: 4.3240 - val_accuracy: 0.1002\n",
      "Epoch 54/100\n",
      "375/375 [==============================] - 1s 3ms/step - loss: 0.9972 - accuracy: 0.6679 - val_loss: 4.3208 - val_accuracy: 0.1023\n",
      "Epoch 55/100\n",
      "375/375 [==============================] - 1s 3ms/step - loss: 0.9814 - accuracy: 0.6727 - val_loss: 4.4182 - val_accuracy: 0.1065\n",
      "Epoch 56/100\n",
      "375/375 [==============================] - 1s 3ms/step - loss: 0.9665 - accuracy: 0.6789 - val_loss: 4.4987 - val_accuracy: 0.0989\n",
      "Epoch 57/100\n",
      "375/375 [==============================] - 1s 3ms/step - loss: 0.9525 - accuracy: 0.6832 - val_loss: 4.5603 - val_accuracy: 0.1038\n",
      "Epoch 58/100\n",
      "375/375 [==============================] - 1s 3ms/step - loss: 0.9368 - accuracy: 0.6874 - val_loss: 4.5908 - val_accuracy: 0.1007\n",
      "Epoch 59/100\n",
      "375/375 [==============================] - 1s 3ms/step - loss: 0.9214 - accuracy: 0.6945 - val_loss: 4.6997 - val_accuracy: 0.1015\n",
      "Epoch 60/100\n",
      "375/375 [==============================] - 1s 3ms/step - loss: 0.9072 - accuracy: 0.7001 - val_loss: 4.7234 - val_accuracy: 0.1034\n",
      "Epoch 61/100\n",
      "375/375 [==============================] - 1s 3ms/step - loss: 0.8927 - accuracy: 0.7045 - val_loss: 4.7659 - val_accuracy: 0.1042\n",
      "Epoch 62/100\n",
      "375/375 [==============================] - 1s 3ms/step - loss: 0.8801 - accuracy: 0.7097 - val_loss: 4.8924 - val_accuracy: 0.1015\n",
      "Epoch 63/100\n",
      "375/375 [==============================] - 1s 3ms/step - loss: 0.8661 - accuracy: 0.7142 - val_loss: 4.9298 - val_accuracy: 0.1028\n",
      "Epoch 64/100\n",
      "375/375 [==============================] - 1s 3ms/step - loss: 0.8557 - accuracy: 0.7168 - val_loss: 4.9730 - val_accuracy: 0.1003\n",
      "Epoch 65/100\n",
      "375/375 [==============================] - 1s 3ms/step - loss: 0.8408 - accuracy: 0.7233 - val_loss: 5.0074 - val_accuracy: 0.1028\n",
      "Epoch 66/100\n",
      "375/375 [==============================] - 1s 3ms/step - loss: 0.8281 - accuracy: 0.7260 - val_loss: 5.0615 - val_accuracy: 0.1029\n",
      "Epoch 67/100\n",
      "375/375 [==============================] - 1s 3ms/step - loss: 0.8141 - accuracy: 0.7324 - val_loss: 5.1324 - val_accuracy: 0.1037\n",
      "Epoch 68/100\n",
      "375/375 [==============================] - 1s 3ms/step - loss: 0.8047 - accuracy: 0.7356 - val_loss: 5.2001 - val_accuracy: 0.1012\n",
      "Epoch 69/100\n",
      "375/375 [==============================] - 1s 3ms/step - loss: 0.7899 - accuracy: 0.7405 - val_loss: 5.2601 - val_accuracy: 0.1041\n",
      "Epoch 70/100\n",
      "375/375 [==============================] - 1s 3ms/step - loss: 0.7797 - accuracy: 0.7423 - val_loss: 5.3080 - val_accuracy: 0.1003\n",
      "Epoch 71/100\n",
      "375/375 [==============================] - 1s 3ms/step - loss: 0.7656 - accuracy: 0.7502 - val_loss: 5.3816 - val_accuracy: 0.1010\n",
      "Epoch 72/100\n",
      "375/375 [==============================] - 1s 3ms/step - loss: 0.7535 - accuracy: 0.7532 - val_loss: 5.4022 - val_accuracy: 0.1025\n",
      "Epoch 73/100\n",
      "375/375 [==============================] - 1s 3ms/step - loss: 0.7430 - accuracy: 0.7550 - val_loss: 5.4970 - val_accuracy: 0.1027\n",
      "Epoch 74/100\n",
      "375/375 [==============================] - 1s 3ms/step - loss: 0.7322 - accuracy: 0.7608 - val_loss: 5.5753 - val_accuracy: 0.1016\n",
      "Epoch 75/100\n",
      "375/375 [==============================] - 1s 3ms/step - loss: 0.7224 - accuracy: 0.7640 - val_loss: 5.6240 - val_accuracy: 0.1013\n",
      "Epoch 76/100\n",
      "375/375 [==============================] - 1s 3ms/step - loss: 0.7108 - accuracy: 0.7671 - val_loss: 5.6842 - val_accuracy: 0.1007\n",
      "Epoch 77/100\n",
      "375/375 [==============================] - 1s 3ms/step - loss: 0.6993 - accuracy: 0.7712 - val_loss: 5.7490 - val_accuracy: 0.1023\n",
      "Epoch 78/100\n",
      "375/375 [==============================] - 1s 3ms/step - loss: 0.6885 - accuracy: 0.7745 - val_loss: 5.8157 - val_accuracy: 0.1032\n",
      "Epoch 79/100\n",
      "375/375 [==============================] - 1s 3ms/step - loss: 0.6776 - accuracy: 0.7802 - val_loss: 5.8917 - val_accuracy: 0.1020\n",
      "Epoch 80/100\n",
      "375/375 [==============================] - 1s 3ms/step - loss: 0.6705 - accuracy: 0.7812 - val_loss: 5.9145 - val_accuracy: 0.1040\n",
      "Epoch 81/100\n",
      "375/375 [==============================] - 1s 3ms/step - loss: 0.6584 - accuracy: 0.7826 - val_loss: 6.0560 - val_accuracy: 0.1025\n",
      "Epoch 82/100\n",
      "375/375 [==============================] - 1s 3ms/step - loss: 0.6495 - accuracy: 0.7874 - val_loss: 6.0655 - val_accuracy: 0.0998\n",
      "Epoch 83/100\n",
      "375/375 [==============================] - 1s 3ms/step - loss: 0.6403 - accuracy: 0.7925 - val_loss: 6.1409 - val_accuracy: 0.1016\n",
      "Epoch 84/100\n",
      "375/375 [==============================] - 1s 3ms/step - loss: 0.6313 - accuracy: 0.7942 - val_loss: 6.2410 - val_accuracy: 0.0999\n",
      "Epoch 85/100\n",
      "375/375 [==============================] - 1s 3ms/step - loss: 0.6224 - accuracy: 0.7989 - val_loss: 6.2743 - val_accuracy: 0.1008\n",
      "Epoch 86/100\n",
      "375/375 [==============================] - 1s 3ms/step - loss: 0.6116 - accuracy: 0.8019 - val_loss: 6.3226 - val_accuracy: 0.1047\n",
      "Epoch 87/100\n",
      "375/375 [==============================] - 1s 3ms/step - loss: 0.6038 - accuracy: 0.8050 - val_loss: 6.4058 - val_accuracy: 0.1023\n",
      "Epoch 88/100\n",
      "375/375 [==============================] - 1s 3ms/step - loss: 0.5966 - accuracy: 0.8051 - val_loss: 6.4669 - val_accuracy: 0.1051\n",
      "Epoch 89/100\n",
      "375/375 [==============================] - 1s 3ms/step - loss: 0.5875 - accuracy: 0.8100 - val_loss: 6.5473 - val_accuracy: 0.1034\n",
      "Epoch 90/100\n",
      "375/375 [==============================] - 1s 3ms/step - loss: 0.5767 - accuracy: 0.8117 - val_loss: 6.6199 - val_accuracy: 0.1022\n",
      "Epoch 91/100\n",
      "375/375 [==============================] - 1s 3ms/step - loss: 0.5695 - accuracy: 0.8157 - val_loss: 6.6720 - val_accuracy: 0.1005\n",
      "Epoch 92/100\n",
      "375/375 [==============================] - 1s 3ms/step - loss: 0.5626 - accuracy: 0.8195 - val_loss: 6.7090 - val_accuracy: 0.1035\n",
      "Epoch 93/100\n",
      "375/375 [==============================] - 1s 3ms/step - loss: 0.5528 - accuracy: 0.8211 - val_loss: 6.8197 - val_accuracy: 0.1006\n",
      "Epoch 94/100\n",
      "375/375 [==============================] - 1s 3ms/step - loss: 0.5445 - accuracy: 0.8248 - val_loss: 6.8620 - val_accuracy: 0.1034\n",
      "Epoch 95/100\n",
      "375/375 [==============================] - 1s 3ms/step - loss: 0.5383 - accuracy: 0.8262 - val_loss: 6.8887 - val_accuracy: 0.1026\n",
      "Epoch 96/100\n",
      "375/375 [==============================] - 1s 3ms/step - loss: 0.5284 - accuracy: 0.8296 - val_loss: 7.0370 - val_accuracy: 0.1034\n",
      "Epoch 97/100\n",
      "375/375 [==============================] - 1s 3ms/step - loss: 0.5226 - accuracy: 0.8319 - val_loss: 7.1137 - val_accuracy: 0.1013\n",
      "Epoch 98/100\n",
      "375/375 [==============================] - 1s 3ms/step - loss: 0.5162 - accuracy: 0.8341 - val_loss: 7.1372 - val_accuracy: 0.1002\n",
      "Epoch 99/100\n",
      "375/375 [==============================] - 1s 3ms/step - loss: 0.5070 - accuracy: 0.8371 - val_loss: 7.1839 - val_accuracy: 0.1027\n",
      "Epoch 100/100\n",
      "375/375 [==============================] - 1s 3ms/step - loss: 0.4987 - accuracy: 0.8400 - val_loss: 7.2391 - val_accuracy: 0.1017\n"
     ]
    },
    {
     "data": {
      "text/plain": [
       "<keras.callbacks.History at 0x7fd9268e1dd0>"
      ]
     },
     "execution_count": 19,
     "metadata": {},
     "output_type": "execute_result"
    }
   ],
   "source": [
    "(train_images, train_labels), _ = mnist.load_data()\n",
    "train_images = train_images.reshape((60000, 28 * 28))\n",
    "train_images = train_images.astype(\"float32\") / 255\n",
    "\n",
    "random_train_labels = train_labels[:]\n",
    "np.random.shuffle(random_train_labels)\n",
    "\n",
    "model = keras.Sequential([\n",
    "    layers.Dense(512, activation=\"relu\"),\n",
    "    layers.Dense(10, activation=\"softmax\")\n",
    "])\n",
    "model.compile(optimizer=\"rmsprop\",\n",
    "              loss=\"sparse_categorical_crossentropy\",\n",
    "              metrics=[\"accuracy\"])\n",
    "model.fit(train_images, random_train_labels,\n",
    "          epochs=100,\n",
    "          batch_size=128,\n",
    "          validation_split=0.2)"
   ]
  },
  {
   "cell_type": "markdown",
   "metadata": {
    "id": "p_7fBvogB5g7"
   },
   "source": [
    "#### The manifold hypothesis"
   ]
  },
  {
   "cell_type": "markdown",
   "metadata": {
    "id": "b51ARCu1B5g8"
   },
   "source": [
    "#### Interpolation as a source of generalization"
   ]
  },
  {
   "cell_type": "markdown",
   "metadata": {
    "id": "PpXPzpWXB5g8"
   },
   "source": [
    "#### Why deep learning works"
   ]
  },
  {
   "cell_type": "markdown",
   "metadata": {
    "id": "2AA7i57fB5g8"
   },
   "source": [
    "#### Training data is paramount"
   ]
  },
  {
   "cell_type": "markdown",
   "metadata": {
    "id": "cbs1WAAEB5g8"
   },
   "source": [
    "## Evaluating machine-learning models"
   ]
  },
  {
   "cell_type": "markdown",
   "metadata": {
    "id": "tJoSmEEYB5g8"
   },
   "source": [
    "### Training, validation, and test sets"
   ]
  },
  {
   "cell_type": "markdown",
   "metadata": {
    "id": "sJhW15EUB5g9"
   },
   "source": [
    "#### Simple hold-out validation"
   ]
  },
  {
   "cell_type": "markdown",
   "metadata": {
    "id": "bjOs2HLPB5g9"
   },
   "source": [
    "#### K-fold validation"
   ]
  },
  {
   "cell_type": "markdown",
   "metadata": {
    "id": "7vq9hrteB5g9"
   },
   "source": [
    "#### Iterated K-fold validation with shuffling"
   ]
  },
  {
   "cell_type": "markdown",
   "metadata": {
    "id": "dOOL-LSgB5g9"
   },
   "source": [
    "### Beating a common-sense baseline"
   ]
  },
  {
   "cell_type": "markdown",
   "metadata": {
    "id": "JE7pDdy3B5g-"
   },
   "source": [
    "### Things to keep in mind about model evaluation"
   ]
  },
  {
   "cell_type": "markdown",
   "metadata": {
    "id": "SJmmIfqOB5g-"
   },
   "source": [
    "## Improving model fit"
   ]
  },
  {
   "cell_type": "markdown",
   "metadata": {
    "id": "FUxx9Qc3B5g_"
   },
   "source": [
    "### Tuning key gradient descent parameters"
   ]
  },
  {
   "cell_type": "markdown",
   "metadata": {
    "id": "1UxA5cbqB5g_"
   },
   "source": [
    "**Training a MNIST model with an incorrectly high learning rate**"
   ]
  },
  {
   "cell_type": "code",
   "execution_count": 20,
   "metadata": {
    "colab": {
     "base_uri": "https://localhost:8080/"
    },
    "id": "e1gs0BtLB5g_",
    "outputId": "4659cf49-f45d-4a7d-84c6-df930f3f9934"
   },
   "outputs": [
    {
     "name": "stdout",
     "output_type": "stream",
     "text": [
      "Epoch 1/10\n",
      "375/375 [==============================] - 2s 3ms/step - loss: 952.2266 - accuracy: 0.4370 - val_loss: 2.3319 - val_accuracy: 0.2527\n",
      "Epoch 2/10\n",
      "375/375 [==============================] - 1s 3ms/step - loss: 3.7712 - accuracy: 0.2801 - val_loss: 2.1890 - val_accuracy: 0.2812\n",
      "Epoch 3/10\n",
      "375/375 [==============================] - 1s 3ms/step - loss: 4.2366 - accuracy: 0.2758 - val_loss: 2.4889 - val_accuracy: 0.2834\n",
      "Epoch 4/10\n",
      "375/375 [==============================] - 1s 3ms/step - loss: 2.8472 - accuracy: 0.2851 - val_loss: 2.4815 - val_accuracy: 0.3467\n",
      "Epoch 5/10\n",
      "375/375 [==============================] - 1s 3ms/step - loss: 3.1560 - accuracy: 0.2879 - val_loss: 2.1385 - val_accuracy: 0.2997\n",
      "Epoch 6/10\n",
      "375/375 [==============================] - 1s 3ms/step - loss: 2.8621 - accuracy: 0.2885 - val_loss: 2.1078 - val_accuracy: 0.2733\n",
      "Epoch 7/10\n",
      "375/375 [==============================] - 1s 3ms/step - loss: 2.7350 - accuracy: 0.2888 - val_loss: 2.5006 - val_accuracy: 0.3146\n",
      "Epoch 8/10\n",
      "375/375 [==============================] - 1s 3ms/step - loss: 2.7355 - accuracy: 0.2904 - val_loss: 2.5211 - val_accuracy: 0.3237\n",
      "Epoch 9/10\n",
      "375/375 [==============================] - 1s 3ms/step - loss: 2.7110 - accuracy: 0.3184 - val_loss: 2.5317 - val_accuracy: 0.2442\n",
      "Epoch 10/10\n",
      "375/375 [==============================] - 1s 3ms/step - loss: 2.4390 - accuracy: 0.2918 - val_loss: 2.8638 - val_accuracy: 0.2922\n"
     ]
    },
    {
     "data": {
      "text/plain": [
       "<keras.callbacks.History at 0x7fd92b8ac8d0>"
      ]
     },
     "execution_count": 20,
     "metadata": {},
     "output_type": "execute_result"
    }
   ],
   "source": [
    "(train_images, train_labels), _ = mnist.load_data()\n",
    "train_images = train_images.reshape((60000, 28 * 28))\n",
    "train_images = train_images.astype(\"float32\") / 255\n",
    "\n",
    "model = keras.Sequential([\n",
    "    layers.Dense(512, activation=\"relu\"),\n",
    "    layers.Dense(10, activation=\"softmax\")\n",
    "])\n",
    "model.compile(optimizer=keras.optimizers.RMSprop(1.),     #너무 큰 learning rate\n",
    "              loss=\"sparse_categorical_crossentropy\",\n",
    "              metrics=[\"accuracy\"])\n",
    "model.fit(train_images, train_labels,\n",
    "          epochs=10,\n",
    "          batch_size=128,\n",
    "          validation_split=0.2)"
   ]
  },
  {
   "cell_type": "code",
   "execution_count": 31,
   "metadata": {
    "colab": {
     "base_uri": "https://localhost:8080/"
    },
    "id": "10ldqlrAT8BU",
    "outputId": "65ce2900-f726-44ea-d57d-15840841bf81"
   },
   "outputs": [
    {
     "data": {
      "text/plain": [
       "array([1, 0, 0, ..., 0, 1, 0])"
      ]
     },
     "execution_count": 31,
     "metadata": {},
     "output_type": "execute_result"
    }
   ],
   "source": [
    "train_labels"
   ]
  },
  {
   "cell_type": "markdown",
   "metadata": {
    "id": "sOd3zL-AB5hA"
   },
   "source": [
    "**The same model with a more appropriate learning rate**"
   ]
  },
  {
   "cell_type": "code",
   "execution_count": 21,
   "metadata": {
    "colab": {
     "base_uri": "https://localhost:8080/"
    },
    "id": "hPpQLcRUB5hA",
    "outputId": "9aec89da-c159-4e62-fcf1-ae431b169e53"
   },
   "outputs": [
    {
     "name": "stdout",
     "output_type": "stream",
     "text": [
      "Epoch 1/10\n",
      "375/375 [==============================] - 2s 3ms/step - loss: 0.3924 - accuracy: 0.9103 - val_loss: 0.1496 - val_accuracy: 0.9581\n",
      "Epoch 2/10\n",
      "375/375 [==============================] - 1s 3ms/step - loss: 0.1453 - accuracy: 0.9628 - val_loss: 0.1953 - val_accuracy: 0.9596\n",
      "Epoch 3/10\n",
      "375/375 [==============================] - 1s 3ms/step - loss: 0.1176 - accuracy: 0.9720 - val_loss: 0.1635 - val_accuracy: 0.9680\n",
      "Epoch 4/10\n",
      "375/375 [==============================] - 1s 3ms/step - loss: 0.0980 - accuracy: 0.9781 - val_loss: 0.2229 - val_accuracy: 0.9668\n",
      "Epoch 5/10\n",
      "375/375 [==============================] - 1s 3ms/step - loss: 0.0871 - accuracy: 0.9816 - val_loss: 0.2243 - val_accuracy: 0.9707\n",
      "Epoch 6/10\n",
      "375/375 [==============================] - 1s 3ms/step - loss: 0.0809 - accuracy: 0.9833 - val_loss: 0.2664 - val_accuracy: 0.9672\n",
      "Epoch 7/10\n",
      "375/375 [==============================] - 1s 3ms/step - loss: 0.0721 - accuracy: 0.9868 - val_loss: 0.2612 - val_accuracy: 0.9706\n",
      "Epoch 8/10\n",
      "375/375 [==============================] - 1s 3ms/step - loss: 0.0681 - accuracy: 0.9873 - val_loss: 0.2576 - val_accuracy: 0.9722\n",
      "Epoch 9/10\n",
      "375/375 [==============================] - 1s 3ms/step - loss: 0.0563 - accuracy: 0.9897 - val_loss: 0.3366 - val_accuracy: 0.9703\n",
      "Epoch 10/10\n",
      "375/375 [==============================] - 1s 3ms/step - loss: 0.0562 - accuracy: 0.9902 - val_loss: 0.3478 - val_accuracy: 0.9736\n"
     ]
    },
    {
     "data": {
      "text/plain": [
       "<keras.callbacks.History at 0x7fd92c1b1b90>"
      ]
     },
     "execution_count": 21,
     "metadata": {},
     "output_type": "execute_result"
    }
   ],
   "source": [
    "model = keras.Sequential([\n",
    "    layers.Dense(512, activation=\"relu\"),\n",
    "    layers.Dense(10, activation=\"softmax\")\n",
    "])\n",
    "model.compile(optimizer=keras.optimizers.RMSprop(1e-2),  # 적절한 learning rate\n",
    "              loss=\"sparse_categorical_crossentropy\",\n",
    "              metrics=[\"accuracy\"])\n",
    "model.fit(train_images, train_labels,\n",
    "          epochs=10,\n",
    "          batch_size=128,\n",
    "          validation_split=0.2)"
   ]
  },
  {
   "cell_type": "markdown",
   "metadata": {
    "id": "JtmMgO96B5hA"
   },
   "source": [
    "### Leveraging better architecture priors"
   ]
  },
  {
   "cell_type": "markdown",
   "metadata": {
    "id": "G1Ys5xUaB5hA"
   },
   "source": [
    "### Increasing model capacity"
   ]
  },
  {
   "cell_type": "markdown",
   "metadata": {
    "id": "-SzFFZyRB5hA"
   },
   "source": [
    "**A simple logistic regression on MNIST**"
   ]
  },
  {
   "cell_type": "code",
   "execution_count": 22,
   "metadata": {
    "colab": {
     "base_uri": "https://localhost:8080/"
    },
    "id": "oGAyZmYvB5hB",
    "outputId": "402fd12f-a1d5-41ff-d875-2d57a7b67750"
   },
   "outputs": [
    {
     "name": "stdout",
     "output_type": "stream",
     "text": [
      "Epoch 1/20\n",
      "375/375 [==============================] - 1s 3ms/step - loss: 0.6625 - accuracy: 0.8363 - val_loss: 0.3583 - val_accuracy: 0.9029\n",
      "Epoch 2/20\n",
      "375/375 [==============================] - 1s 3ms/step - loss: 0.3513 - accuracy: 0.9029 - val_loss: 0.3061 - val_accuracy: 0.9155\n",
      "Epoch 3/20\n",
      "375/375 [==============================] - 1s 3ms/step - loss: 0.3155 - accuracy: 0.9119 - val_loss: 0.2906 - val_accuracy: 0.9197\n",
      "Epoch 4/20\n",
      "375/375 [==============================] - 1s 3ms/step - loss: 0.2994 - accuracy: 0.9163 - val_loss: 0.2810 - val_accuracy: 0.9216\n",
      "Epoch 5/20\n",
      "375/375 [==============================] - 1s 2ms/step - loss: 0.2899 - accuracy: 0.9198 - val_loss: 0.2752 - val_accuracy: 0.9244\n",
      "Epoch 6/20\n",
      "375/375 [==============================] - 1s 2ms/step - loss: 0.2831 - accuracy: 0.9206 - val_loss: 0.2708 - val_accuracy: 0.9252\n",
      "Epoch 7/20\n",
      "375/375 [==============================] - 1s 3ms/step - loss: 0.2779 - accuracy: 0.9226 - val_loss: 0.2706 - val_accuracy: 0.9266\n",
      "Epoch 8/20\n",
      "375/375 [==============================] - 1s 3ms/step - loss: 0.2743 - accuracy: 0.9235 - val_loss: 0.2671 - val_accuracy: 0.9277\n",
      "Epoch 9/20\n",
      "375/375 [==============================] - 1s 3ms/step - loss: 0.2712 - accuracy: 0.9246 - val_loss: 0.2655 - val_accuracy: 0.9270\n",
      "Epoch 10/20\n",
      "375/375 [==============================] - 1s 2ms/step - loss: 0.2689 - accuracy: 0.9247 - val_loss: 0.2643 - val_accuracy: 0.9278\n",
      "Epoch 11/20\n",
      "375/375 [==============================] - 1s 3ms/step - loss: 0.2666 - accuracy: 0.9259 - val_loss: 0.2667 - val_accuracy: 0.9268\n",
      "Epoch 12/20\n",
      "375/375 [==============================] - 1s 3ms/step - loss: 0.2649 - accuracy: 0.9264 - val_loss: 0.2633 - val_accuracy: 0.9292\n",
      "Epoch 13/20\n",
      "375/375 [==============================] - 1s 3ms/step - loss: 0.2632 - accuracy: 0.9273 - val_loss: 0.2631 - val_accuracy: 0.9290\n",
      "Epoch 14/20\n",
      "375/375 [==============================] - 1s 3ms/step - loss: 0.2616 - accuracy: 0.9276 - val_loss: 0.2629 - val_accuracy: 0.9296\n",
      "Epoch 15/20\n",
      "375/375 [==============================] - 1s 3ms/step - loss: 0.2604 - accuracy: 0.9284 - val_loss: 0.2619 - val_accuracy: 0.9298\n",
      "Epoch 16/20\n",
      "375/375 [==============================] - 1s 3ms/step - loss: 0.2593 - accuracy: 0.9291 - val_loss: 0.2615 - val_accuracy: 0.9293\n",
      "Epoch 17/20\n",
      "375/375 [==============================] - 1s 2ms/step - loss: 0.2582 - accuracy: 0.9289 - val_loss: 0.2615 - val_accuracy: 0.9304\n",
      "Epoch 18/20\n",
      "375/375 [==============================] - 1s 3ms/step - loss: 0.2573 - accuracy: 0.9294 - val_loss: 0.2607 - val_accuracy: 0.9305\n",
      "Epoch 19/20\n",
      "375/375 [==============================] - 1s 3ms/step - loss: 0.2567 - accuracy: 0.9295 - val_loss: 0.2627 - val_accuracy: 0.9298\n",
      "Epoch 20/20\n",
      "375/375 [==============================] - 1s 3ms/step - loss: 0.2556 - accuracy: 0.9305 - val_loss: 0.2609 - val_accuracy: 0.9315\n"
     ]
    }
   ],
   "source": [
    "model = keras.Sequential([layers.Dense(10, activation=\"softmax\")])\n",
    "model.compile(optimizer=\"rmsprop\",\n",
    "              loss=\"sparse_categorical_crossentropy\",\n",
    "              metrics=[\"accuracy\"])\n",
    "history_small_model = model.fit(\n",
    "    train_images, train_labels,\n",
    "    epochs=20,\n",
    "    batch_size=128,\n",
    "    validation_split=0.2)"
   ]
  },
  {
   "cell_type": "code",
   "execution_count": 23,
   "metadata": {
    "colab": {
     "base_uri": "https://localhost:8080/",
     "height": 313
    },
    "id": "xQXDOETbB5hB",
    "outputId": "7d876562-29d2-4ed1-cf4f-422433ceaedf"
   },
   "outputs": [
    {
     "data": {
      "text/plain": [
       "<matplotlib.legend.Legend at 0x7fd92d0efcd0>"
      ]
     },
     "execution_count": 23,
     "metadata": {},
     "output_type": "execute_result"
    },
    {
     "data": {
      "image/png": "[encoded data removed]",
      "text/plain": [
       "<Figure size 432x288 with 1 Axes>"
      ]
     },
     "metadata": {
      "needs_background": "light"
     },
     "output_type": "display_data"
    }
   ],
   "source": [
    "import matplotlib.pyplot as plt\n",
    "val_loss = history_small_model.history[\"val_loss\"]\n",
    "epochs = range(1, 21)\n",
    "plt.plot(epochs, val_loss, \"b--\",\n",
    "         label=\"Validation loss\")\n",
    "plt.title(\"Effect of insufficient model capacity on validation loss\")\n",
    "plt.xlabel(\"Epochs\")\n",
    "plt.ylabel(\"Loss\")\n",
    "plt.legend()"
   ]
  },
  {
   "cell_type": "code",
   "execution_count": 24,
   "metadata": {
    "colab": {
     "base_uri": "https://localhost:8080/"
    },
    "id": "inpCu59dB5hC",
    "outputId": "1023f516-e2e2-4c2a-ba7a-1866aead724a"
   },
   "outputs": [
    {
     "name": "stdout",
     "output_type": "stream",
     "text": [
      "Epoch 1/20\n",
      "375/375 [==============================] - 2s 4ms/step - loss: 0.3604 - accuracy: 0.8980 - val_loss: 0.1864 - val_accuracy: 0.9467\n",
      "Epoch 2/20\n",
      "375/375 [==============================] - 1s 3ms/step - loss: 0.1608 - accuracy: 0.9518 - val_loss: 0.1342 - val_accuracy: 0.9612\n",
      "Epoch 3/20\n",
      "375/375 [==============================] - 1s 3ms/step - loss: 0.1140 - accuracy: 0.9665 - val_loss: 0.1100 - val_accuracy: 0.9677\n",
      "Epoch 4/20\n",
      "375/375 [==============================] - 1s 3ms/step - loss: 0.0866 - accuracy: 0.9730 - val_loss: 0.1159 - val_accuracy: 0.9664\n",
      "Epoch 5/20\n",
      "375/375 [==============================] - 1s 3ms/step - loss: 0.0720 - accuracy: 0.9780 - val_loss: 0.1056 - val_accuracy: 0.9699\n",
      "Epoch 6/20\n",
      "375/375 [==============================] - 1s 3ms/step - loss: 0.0586 - accuracy: 0.9825 - val_loss: 0.0955 - val_accuracy: 0.9727\n",
      "Epoch 7/20\n",
      "375/375 [==============================] - 1s 3ms/step - loss: 0.0483 - accuracy: 0.9858 - val_loss: 0.0986 - val_accuracy: 0.9714\n",
      "Epoch 8/20\n",
      "375/375 [==============================] - 1s 3ms/step - loss: 0.0418 - accuracy: 0.9874 - val_loss: 0.0900 - val_accuracy: 0.9746\n",
      "Epoch 9/20\n",
      "375/375 [==============================] - 1s 3ms/step - loss: 0.0350 - accuracy: 0.9896 - val_loss: 0.0969 - val_accuracy: 0.9749\n",
      "Epoch 10/20\n",
      "375/375 [==============================] - 1s 3ms/step - loss: 0.0302 - accuracy: 0.9913 - val_loss: 0.0965 - val_accuracy: 0.9745\n",
      "Epoch 11/20\n",
      "375/375 [==============================] - 1s 3ms/step - loss: 0.0245 - accuracy: 0.9920 - val_loss: 0.0933 - val_accuracy: 0.9768\n",
      "Epoch 12/20\n",
      "375/375 [==============================] - 1s 3ms/step - loss: 0.0213 - accuracy: 0.9934 - val_loss: 0.1006 - val_accuracy: 0.9759\n",
      "Epoch 13/20\n",
      "375/375 [==============================] - 1s 3ms/step - loss: 0.0174 - accuracy: 0.9951 - val_loss: 0.1049 - val_accuracy: 0.9762\n",
      "Epoch 14/20\n",
      "375/375 [==============================] - 1s 3ms/step - loss: 0.0150 - accuracy: 0.9955 - val_loss: 0.1145 - val_accuracy: 0.9758\n",
      "Epoch 15/20\n",
      "375/375 [==============================] - 1s 3ms/step - loss: 0.0133 - accuracy: 0.9955 - val_loss: 0.1131 - val_accuracy: 0.9754\n",
      "Epoch 16/20\n",
      "375/375 [==============================] - 1s 3ms/step - loss: 0.0111 - accuracy: 0.9965 - val_loss: 0.1187 - val_accuracy: 0.9751\n",
      "Epoch 17/20\n",
      "375/375 [==============================] - 1s 3ms/step - loss: 0.0097 - accuracy: 0.9969 - val_loss: 0.1238 - val_accuracy: 0.9768\n",
      "Epoch 18/20\n",
      "375/375 [==============================] - 1s 3ms/step - loss: 0.0082 - accuracy: 0.9977 - val_loss: 0.1331 - val_accuracy: 0.9741\n",
      "Epoch 19/20\n",
      "375/375 [==============================] - 1s 3ms/step - loss: 0.0074 - accuracy: 0.9978 - val_loss: 0.1359 - val_accuracy: 0.9735\n",
      "Epoch 20/20\n",
      "375/375 [==============================] - 1s 3ms/step - loss: 0.0061 - accuracy: 0.9980 - val_loss: 0.1420 - val_accuracy: 0.9759\n"
     ]
    }
   ],
   "source": [
    "model = keras.Sequential([\n",
    "    layers.Dense(96, activation=\"relu\"),\n",
    "    layers.Dense(96, activation=\"relu\"),\n",
    "    layers.Dense(10, activation=\"softmax\"),\n",
    "])\n",
    "model.compile(optimizer=\"rmsprop\",\n",
    "              loss=\"sparse_categorical_crossentropy\",\n",
    "              metrics=[\"accuracy\"])\n",
    "history_large_model = model.fit(\n",
    "    train_images, train_labels,\n",
    "    epochs=20,\n",
    "    batch_size=128,\n",
    "    validation_split=0.2)"
   ]
  },
  {
   "cell_type": "markdown",
   "metadata": {
    "id": "qQUuUkjMB5hD"
   },
   "source": [
    "## Improving generalization"
   ]
  },
  {
   "cell_type": "markdown",
   "metadata": {
    "id": "onoJRkLuB5hD"
   },
   "source": [
    "### Dataset curation"
   ]
  },
  {
   "cell_type": "markdown",
   "metadata": {
    "id": "JOrDv02zB5hD"
   },
   "source": [
    "### Feature engineering"
   ]
  },
  {
   "cell_type": "markdown",
   "metadata": {
    "id": "uzG-uqK6B5hD"
   },
   "source": [
    "### Using early stopping"
   ]
  },
  {
   "cell_type": "markdown",
   "metadata": {
    "id": "5Dk4sV-yB5hE"
   },
   "source": [
    "### Regularizing your model"
   ]
  },
  {
   "cell_type": "markdown",
   "metadata": {
    "id": "dYnl_Z5yB5hE"
   },
   "source": [
    "#### Reducing the network's size"
   ]
  },
  {
   "cell_type": "markdown",
   "metadata": {
    "id": "vOC2RixBB5hE"
   },
   "source": [
    "**Original model**"
   ]
  },
  {
   "cell_type": "code",
   "execution_count": 25,
   "metadata": {
    "colab": {
     "base_uri": "https://localhost:8080/"
    },
    "id": "gVKiKOS2B5hE",
    "outputId": "2035b862-8e59-4ec9-9c3b-41a313ae2819"
   },
   "outputs": [
    {
     "name": "stdout",
     "output_type": "stream",
     "text": [
      "Epoch 1/20\n",
      "30/30 [==============================] - 2s 42ms/step - loss: 0.5106 - accuracy: 0.7908 - val_loss: 0.3740 - val_accuracy: 0.8774\n",
      "Epoch 2/20\n",
      "30/30 [==============================] - 1s 20ms/step - loss: 0.2974 - accuracy: 0.9049 - val_loss: 0.3113 - val_accuracy: 0.8828\n",
      "Epoch 3/20\n",
      "30/30 [==============================] - 1s 20ms/step - loss: 0.2190 - accuracy: 0.9289 - val_loss: 0.2754 - val_accuracy: 0.8945\n",
      "Epoch 4/20\n",
      "30/30 [==============================] - 1s 20ms/step - loss: 0.1718 - accuracy: 0.9452 - val_loss: 0.2744 - val_accuracy: 0.8935\n",
      "Epoch 5/20\n",
      "30/30 [==============================] - 1s 20ms/step - loss: 0.1391 - accuracy: 0.9555 - val_loss: 0.2977 - val_accuracy: 0.8854\n",
      "Epoch 6/20\n",
      "30/30 [==============================] - 1s 19ms/step - loss: 0.1143 - accuracy: 0.9659 - val_loss: 0.3216 - val_accuracy: 0.8810\n",
      "Epoch 7/20\n",
      "30/30 [==============================] - 1s 19ms/step - loss: 0.0988 - accuracy: 0.9701 - val_loss: 0.3492 - val_accuracy: 0.8781\n",
      "Epoch 8/20\n",
      "30/30 [==============================] - 1s 20ms/step - loss: 0.0819 - accuracy: 0.9777 - val_loss: 0.3378 - val_accuracy: 0.8815\n",
      "Epoch 9/20\n",
      "30/30 [==============================] - 1s 19ms/step - loss: 0.0685 - accuracy: 0.9821 - val_loss: 0.3685 - val_accuracy: 0.8774\n",
      "Epoch 10/20\n",
      "30/30 [==============================] - 1s 20ms/step - loss: 0.0560 - accuracy: 0.9861 - val_loss: 0.3829 - val_accuracy: 0.8814\n",
      "Epoch 11/20\n",
      "30/30 [==============================] - 1s 20ms/step - loss: 0.0457 - accuracy: 0.9894 - val_loss: 0.4640 - val_accuracy: 0.8628\n",
      "Epoch 12/20\n",
      "30/30 [==============================] - 1s 20ms/step - loss: 0.0391 - accuracy: 0.9911 - val_loss: 0.4711 - val_accuracy: 0.8701\n",
      "Epoch 13/20\n",
      "30/30 [==============================] - 1s 20ms/step - loss: 0.0304 - accuracy: 0.9939 - val_loss: 0.4790 - val_accuracy: 0.8726\n",
      "Epoch 14/20\n",
      "30/30 [==============================] - 1s 19ms/step - loss: 0.0268 - accuracy: 0.9948 - val_loss: 0.5457 - val_accuracy: 0.8676\n",
      "Epoch 15/20\n",
      "30/30 [==============================] - 1s 20ms/step - loss: 0.0224 - accuracy: 0.9950 - val_loss: 0.5482 - val_accuracy: 0.8701\n",
      "Epoch 16/20\n",
      "30/30 [==============================] - 1s 20ms/step - loss: 0.0158 - accuracy: 0.9972 - val_loss: 0.5801 - val_accuracy: 0.8698\n",
      "Epoch 17/20\n",
      "30/30 [==============================] - 1s 20ms/step - loss: 0.0176 - accuracy: 0.9957 - val_loss: 0.6193 - val_accuracy: 0.8685\n",
      "Epoch 18/20\n",
      "30/30 [==============================] - 1s 19ms/step - loss: 0.0075 - accuracy: 0.9991 - val_loss: 0.6430 - val_accuracy: 0.8684\n",
      "Epoch 19/20\n",
      "30/30 [==============================] - 1s 19ms/step - loss: 0.0097 - accuracy: 0.9985 - val_loss: 0.6803 - val_accuracy: 0.8668\n",
      "Epoch 20/20\n",
      "30/30 [==============================] - 1s 19ms/step - loss: 0.0080 - accuracy: 0.9985 - val_loss: 0.7076 - val_accuracy: 0.8683\n"
     ]
    }
   ],
   "source": [
    "from tensorflow.keras.datasets import imdb\n",
    "(train_data, train_labels), _ = imdb.load_data(num_words=10000)\n",
    "\n",
    "def vectorize_sequences(sequences, dimension=10000):\n",
    "    results = np.zeros((len(sequences), dimension))\n",
    "    for i, sequence in enumerate(sequences):\n",
    "        results[i, sequence] = 1.\n",
    "    return results\n",
    "train_data = vectorize_sequences(train_data)\n",
    "\n",
    "model = keras.Sequential([\n",
    "    layers.Dense(16, activation=\"relu\"),\n",
    "    layers.Dense(16, activation=\"relu\"),\n",
    "    layers.Dense(1, activation=\"sigmoid\")\n",
    "])\n",
    "model.compile(optimizer=\"rmsprop\",\n",
    "              loss=\"binary_crossentropy\",\n",
    "              metrics=[\"accuracy\"])\n",
    "history_original = model.fit(train_data, train_labels,\n",
    "                             epochs=20, batch_size=512, validation_split=0.4)"
   ]
  },
  {
   "cell_type": "markdown",
   "metadata": {
    "id": "cv4mXH_BB5hE"
   },
   "source": [
    "**Version of the model with lower capacity**"
   ]
  },
  {
   "cell_type": "code",
   "execution_count": 26,
   "metadata": {
    "colab": {
     "base_uri": "https://localhost:8080/"
    },
    "id": "d8abZKw-B5hF",
    "outputId": "90287905-4db0-4f93-922f-65883576e080"
   },
   "outputs": [
    {
     "name": "stdout",
     "output_type": "stream",
     "text": [
      "Epoch 1/20\n",
      "30/30 [==============================] - 2s 35ms/step - loss: 0.6537 - accuracy: 0.6343 - val_loss: 0.6125 - val_accuracy: 0.7693\n",
      "Epoch 2/20\n",
      "30/30 [==============================] - 1s 19ms/step - loss: 0.5742 - accuracy: 0.7693 - val_loss: 0.5461 - val_accuracy: 0.8200\n",
      "Epoch 3/20\n",
      "30/30 [==============================] - 1s 20ms/step - loss: 0.4992 - accuracy: 0.8590 - val_loss: 0.4779 - val_accuracy: 0.8601\n",
      "Epoch 4/20\n",
      "30/30 [==============================] - 1s 20ms/step - loss: 0.4189 - accuracy: 0.8998 - val_loss: 0.4162 - val_accuracy: 0.8874\n",
      "Epoch 5/20\n",
      "30/30 [==============================] - 1s 19ms/step - loss: 0.3476 - accuracy: 0.9203 - val_loss: 0.3620 - val_accuracy: 0.8869\n",
      "Epoch 6/20\n",
      "30/30 [==============================] - 1s 19ms/step - loss: 0.2890 - accuracy: 0.9299 - val_loss: 0.3245 - val_accuracy: 0.8894\n",
      "Epoch 7/20\n",
      "30/30 [==============================] - 1s 19ms/step - loss: 0.2445 - accuracy: 0.9361 - val_loss: 0.3034 - val_accuracy: 0.8934\n",
      "Epoch 8/20\n",
      "30/30 [==============================] - 1s 19ms/step - loss: 0.2105 - accuracy: 0.9447 - val_loss: 0.2851 - val_accuracy: 0.8943\n",
      "Epoch 9/20\n",
      "30/30 [==============================] - 1s 19ms/step - loss: 0.1845 - accuracy: 0.9505 - val_loss: 0.2775 - val_accuracy: 0.8951\n",
      "Epoch 10/20\n",
      "30/30 [==============================] - 1s 19ms/step - loss: 0.1636 - accuracy: 0.9549 - val_loss: 0.2749 - val_accuracy: 0.8939\n",
      "Epoch 11/20\n",
      "30/30 [==============================] - 1s 19ms/step - loss: 0.1462 - accuracy: 0.9597 - val_loss: 0.2775 - val_accuracy: 0.8926\n",
      "Epoch 12/20\n",
      "30/30 [==============================] - 1s 19ms/step - loss: 0.1317 - accuracy: 0.9634 - val_loss: 0.2837 - val_accuracy: 0.8898\n",
      "Epoch 13/20\n",
      "30/30 [==============================] - 1s 19ms/step - loss: 0.1187 - accuracy: 0.9670 - val_loss: 0.2857 - val_accuracy: 0.8895\n",
      "Epoch 14/20\n",
      "30/30 [==============================] - 1s 19ms/step - loss: 0.1081 - accuracy: 0.9700 - val_loss: 0.2954 - val_accuracy: 0.8892\n",
      "Epoch 15/20\n",
      "30/30 [==============================] - 1s 20ms/step - loss: 0.0983 - accuracy: 0.9737 - val_loss: 0.3018 - val_accuracy: 0.8866\n",
      "Epoch 16/20\n",
      "30/30 [==============================] - 1s 20ms/step - loss: 0.0890 - accuracy: 0.9777 - val_loss: 0.3121 - val_accuracy: 0.8859\n",
      "Epoch 17/20\n",
      "30/30 [==============================] - 1s 20ms/step - loss: 0.0812 - accuracy: 0.9804 - val_loss: 0.3239 - val_accuracy: 0.8853\n",
      "Epoch 18/20\n",
      "30/30 [==============================] - 1s 19ms/step - loss: 0.0741 - accuracy: 0.9827 - val_loss: 0.3362 - val_accuracy: 0.8850\n",
      "Epoch 19/20\n",
      "30/30 [==============================] - 1s 19ms/step - loss: 0.0668 - accuracy: 0.9855 - val_loss: 0.3525 - val_accuracy: 0.8833\n",
      "Epoch 20/20\n",
      "30/30 [==============================] - 1s 19ms/step - loss: 0.0608 - accuracy: 0.9869 - val_loss: 0.3724 - val_accuracy: 0.8814\n"
     ]
    }
   ],
   "source": [
    "model = keras.Sequential([\n",
    "    layers.Dense(4, activation=\"relu\"),\n",
    "    layers.Dense(4, activation=\"relu\"),\n",
    "    layers.Dense(1, activation=\"sigmoid\")\n",
    "])\n",
    "model.compile(optimizer=\"rmsprop\",\n",
    "              loss=\"binary_crossentropy\",\n",
    "              metrics=[\"accuracy\"])\n",
    "history_smaller_model = model.fit(\n",
    "    train_data, train_labels,\n",
    "    epochs=20, batch_size=512, validation_split=0.4)"
   ]
  },
  {
   "cell_type": "markdown",
   "metadata": {
    "id": "EANXFD8SB5hF"
   },
   "source": [
    "**Version of the model with higher capacity**"
   ]
  },
  {
   "cell_type": "code",
   "execution_count": 27,
   "metadata": {
    "colab": {
     "base_uri": "https://localhost:8080/"
    },
    "id": "V6KFSV3RB5hF",
    "outputId": "a334cb20-22c9-4b33-8cd3-4358ad6ff35f"
   },
   "outputs": [
    {
     "name": "stdout",
     "output_type": "stream",
     "text": [
      "Epoch 1/20\n",
      "30/30 [==============================] - 2s 43ms/step - loss: 0.5435 - accuracy: 0.7532 - val_loss: 0.3705 - val_accuracy: 0.8413\n",
      "Epoch 2/20\n",
      "30/30 [==============================] - 1s 21ms/step - loss: 0.2502 - accuracy: 0.9001 - val_loss: 0.2709 - val_accuracy: 0.8913\n",
      "Epoch 3/20\n",
      "30/30 [==============================] - 1s 22ms/step - loss: 0.1524 - accuracy: 0.9405 - val_loss: 0.3015 - val_accuracy: 0.8844\n",
      "Epoch 4/20\n",
      "30/30 [==============================] - 1s 22ms/step - loss: 0.0917 - accuracy: 0.9696 - val_loss: 0.4819 - val_accuracy: 0.8542\n",
      "Epoch 5/20\n",
      "30/30 [==============================] - 1s 22ms/step - loss: 0.0856 - accuracy: 0.9810 - val_loss: 0.3026 - val_accuracy: 0.8818\n",
      "Epoch 6/20\n",
      "30/30 [==============================] - 1s 21ms/step - loss: 0.0086 - accuracy: 0.9997 - val_loss: 0.5060 - val_accuracy: 0.8865\n",
      "Epoch 7/20\n",
      "30/30 [==============================] - 1s 22ms/step - loss: 7.4830e-04 - accuracy: 1.0000 - val_loss: 0.6214 - val_accuracy: 0.8830\n",
      "Epoch 8/20\n",
      "30/30 [==============================] - 1s 21ms/step - loss: 0.2327 - accuracy: 0.9838 - val_loss: 0.6780 - val_accuracy: 0.8522\n",
      "Epoch 9/20\n",
      "30/30 [==============================] - 1s 22ms/step - loss: 8.4677e-04 - accuracy: 0.9999 - val_loss: 0.6307 - val_accuracy: 0.8839\n",
      "Epoch 10/20\n",
      "30/30 [==============================] - 1s 22ms/step - loss: 1.2830e-04 - accuracy: 1.0000 - val_loss: 0.6801 - val_accuracy: 0.8818\n",
      "Epoch 11/20\n",
      "30/30 [==============================] - 1s 21ms/step - loss: 5.4163e-05 - accuracy: 1.0000 - val_loss: 0.7617 - val_accuracy: 0.8823\n",
      "Epoch 12/20\n",
      "30/30 [==============================] - 1s 22ms/step - loss: 1.9401e-05 - accuracy: 1.0000 - val_loss: 0.8355 - val_accuracy: 0.8822\n",
      "Epoch 13/20\n",
      "30/30 [==============================] - 1s 21ms/step - loss: 5.8173e-06 - accuracy: 1.0000 - val_loss: 0.9255 - val_accuracy: 0.8823\n",
      "Epoch 14/20\n",
      "30/30 [==============================] - 1s 21ms/step - loss: 1.7336e-06 - accuracy: 1.0000 - val_loss: 1.0038 - val_accuracy: 0.8803\n",
      "Epoch 15/20\n",
      "30/30 [==============================] - 1s 22ms/step - loss: 5.8921e-07 - accuracy: 1.0000 - val_loss: 1.0963 - val_accuracy: 0.8818\n",
      "Epoch 16/20\n",
      "30/30 [==============================] - 1s 21ms/step - loss: 2.0708e-07 - accuracy: 1.0000 - val_loss: 1.1462 - val_accuracy: 0.8815\n",
      "Epoch 17/20\n",
      "30/30 [==============================] - 1s 22ms/step - loss: 8.3280e-08 - accuracy: 1.0000 - val_loss: 1.2313 - val_accuracy: 0.8815\n",
      "Epoch 18/20\n",
      "30/30 [==============================] - 1s 22ms/step - loss: 3.8589e-08 - accuracy: 1.0000 - val_loss: 1.2702 - val_accuracy: 0.8813\n",
      "Epoch 19/20\n",
      "30/30 [==============================] - 1s 21ms/step - loss: 2.3268e-08 - accuracy: 1.0000 - val_loss: 1.2947 - val_accuracy: 0.8810\n",
      "Epoch 20/20\n",
      "30/30 [==============================] - 1s 21ms/step - loss: 1.6249e-08 - accuracy: 1.0000 - val_loss: 1.3172 - val_accuracy: 0.8814\n"
     ]
    }
   ],
   "source": [
    "model = keras.Sequential([\n",
    "    layers.Dense(512, activation=\"relu\"),\n",
    "    layers.Dense(512, activation=\"relu\"),\n",
    "    layers.Dense(1, activation=\"sigmoid\")\n",
    "])\n",
    "model.compile(optimizer=\"rmsprop\",\n",
    "              loss=\"binary_crossentropy\",\n",
    "              metrics=[\"accuracy\"])\n",
    "history_larger_model = model.fit(\n",
    "    train_data, train_labels,\n",
    "    epochs=20, batch_size=512, validation_split=0.4)"
   ]
  },
  {
   "cell_type": "markdown",
   "metadata": {
    "id": "Qu3FUzhVB5hF"
   },
   "source": [
    "#### Adding weight regularization"
   ]
  },
  {
   "cell_type": "markdown",
   "metadata": {
    "id": "VeoyTm4WB5hF"
   },
   "source": [
    "**Adding L2 weight regularization to the model**"
   ]
  },
  {
   "cell_type": "code",
   "execution_count": 28,
   "metadata": {
    "colab": {
     "base_uri": "https://localhost:8080/"
    },
    "id": "Sg711Rq2B5hF",
    "outputId": "c76d7a10-c37f-4ed8-a057-11350bc2a8ba"
   },
   "outputs": [
    {
     "name": "stdout",
     "output_type": "stream",
     "text": [
      "Epoch 1/20\n",
      "30/30 [==============================] - 2s 37ms/step - loss: 0.5956 - accuracy: 0.7751 - val_loss: 0.4674 - val_accuracy: 0.8630\n",
      "Epoch 2/20\n",
      "30/30 [==============================] - 1s 20ms/step - loss: 0.4007 - accuracy: 0.8943 - val_loss: 0.4018 - val_accuracy: 0.8782\n",
      "Epoch 3/20\n",
      "30/30 [==============================] - 1s 19ms/step - loss: 0.3340 - accuracy: 0.9163 - val_loss: 0.3787 - val_accuracy: 0.8808\n",
      "Epoch 4/20\n",
      "30/30 [==============================] - 1s 20ms/step - loss: 0.3046 - accuracy: 0.9236 - val_loss: 0.3634 - val_accuracy: 0.8876\n",
      "Epoch 5/20\n",
      "30/30 [==============================] - 1s 19ms/step - loss: 0.2830 - accuracy: 0.9321 - val_loss: 0.3714 - val_accuracy: 0.8815\n",
      "Epoch 6/20\n",
      "30/30 [==============================] - 1s 19ms/step - loss: 0.2739 - accuracy: 0.9340 - val_loss: 0.3626 - val_accuracy: 0.8867\n",
      "Epoch 7/20\n",
      "30/30 [==============================] - 1s 20ms/step - loss: 0.2604 - accuracy: 0.9391 - val_loss: 0.4251 - val_accuracy: 0.8609\n",
      "Epoch 8/20\n",
      "30/30 [==============================] - 1s 19ms/step - loss: 0.2570 - accuracy: 0.9411 - val_loss: 0.3677 - val_accuracy: 0.8836\n",
      "Epoch 9/20\n",
      "30/30 [==============================] - 1s 20ms/step - loss: 0.2440 - accuracy: 0.9467 - val_loss: 0.3744 - val_accuracy: 0.8806\n",
      "Epoch 10/20\n",
      "30/30 [==============================] - 1s 19ms/step - loss: 0.2456 - accuracy: 0.9425 - val_loss: 0.3819 - val_accuracy: 0.8795\n",
      "Epoch 11/20\n",
      "30/30 [==============================] - 1s 19ms/step - loss: 0.2369 - accuracy: 0.9481 - val_loss: 0.3771 - val_accuracy: 0.8814\n",
      "Epoch 12/20\n",
      "30/30 [==============================] - 1s 19ms/step - loss: 0.2322 - accuracy: 0.9501 - val_loss: 0.3884 - val_accuracy: 0.8775\n",
      "Epoch 13/20\n",
      "30/30 [==============================] - 1s 23ms/step - loss: 0.2351 - accuracy: 0.9476 - val_loss: 0.3879 - val_accuracy: 0.8798\n",
      "Epoch 14/20\n",
      "30/30 [==============================] - 1s 19ms/step - loss: 0.2276 - accuracy: 0.9501 - val_loss: 0.3991 - val_accuracy: 0.8765\n",
      "Epoch 15/20\n",
      "30/30 [==============================] - 1s 20ms/step - loss: 0.2257 - accuracy: 0.9517 - val_loss: 0.4078 - val_accuracy: 0.8769\n",
      "Epoch 16/20\n",
      "30/30 [==============================] - 1s 20ms/step - loss: 0.2237 - accuracy: 0.9518 - val_loss: 0.4032 - val_accuracy: 0.8762\n",
      "Epoch 17/20\n",
      "30/30 [==============================] - 1s 20ms/step - loss: 0.2116 - accuracy: 0.9581 - val_loss: 0.3978 - val_accuracy: 0.8779\n",
      "Epoch 18/20\n",
      "30/30 [==============================] - 1s 19ms/step - loss: 0.2174 - accuracy: 0.9548 - val_loss: 0.4031 - val_accuracy: 0.8755\n",
      "Epoch 19/20\n",
      "30/30 [==============================] - 1s 20ms/step - loss: 0.2090 - accuracy: 0.9589 - val_loss: 0.4078 - val_accuracy: 0.8745\n",
      "Epoch 20/20\n",
      "30/30 [==============================] - 1s 19ms/step - loss: 0.2189 - accuracy: 0.9505 - val_loss: 0.4062 - val_accuracy: 0.8765\n"
     ]
    }
   ],
   "source": [
    "from tensorflow.keras import regularizers\n",
    "model = keras.Sequential([\n",
    "    layers.Dense(16,\n",
    "                 kernel_regularizer=regularizers.l2(0.002),\n",
    "                 activation=\"relu\"),\n",
    "    layers.Dense(16,\n",
    "                 kernel_regularizer=regularizers.l2(0.002),\n",
    "                 activation=\"relu\"),\n",
    "    layers.Dense(1, activation=\"sigmoid\")\n",
    "])\n",
    "model.compile(optimizer=\"rmsprop\",\n",
    "              loss=\"binary_crossentropy\",\n",
    "              metrics=[\"accuracy\"])\n",
    "history_l2_reg = model.fit(\n",
    "    train_data, train_labels,\n",
    "    epochs=20, batch_size=512, validation_split=0.4)"
   ]
  },
  {
   "cell_type": "markdown",
   "metadata": {
    "id": "8B7IZlaVB5hG"
   },
   "source": [
    "**Different weight regularizers available in Keras**"
   ]
  },
  {
   "cell_type": "code",
   "execution_count": 29,
   "metadata": {
    "colab": {
     "base_uri": "https://localhost:8080/"
    },
    "id": "ayV78t3FB5hG",
    "outputId": "597c08c8-90c9-4dd0-bd75-f809bba4277f"
   },
   "outputs": [
    {
     "data": {
      "text/plain": [
       "<keras.regularizers.L1L2 at 0x7fd9b83e7910>"
      ]
     },
     "execution_count": 29,
     "metadata": {},
     "output_type": "execute_result"
    }
   ],
   "source": [
    "from tensorflow.keras import regularizers\n",
    "regularizers.l1(0.001)\n",
    "regularizers.l1_l2(l1=0.001, l2=0.001)"
   ]
  },
  {
   "cell_type": "markdown",
   "metadata": {
    "id": "yImXWm72B5hG"
   },
   "source": [
    "#### Adding dropout"
   ]
  },
  {
   "cell_type": "markdown",
   "metadata": {
    "id": "5h2yLNQsB5hG"
   },
   "source": [
    "**Adding dropout to the IMDB model**"
   ]
  },
  {
   "cell_type": "code",
   "execution_count": 30,
   "metadata": {
    "colab": {
     "base_uri": "https://localhost:8080/"
    },
    "id": "0ShFWxpNB5hG",
    "outputId": "5993a2f3-d569-408d-ee1b-93dfbb801dc1"
   },
   "outputs": [
    {
     "name": "stdout",
     "output_type": "stream",
     "text": [
      "Epoch 1/20\n",
      "30/30 [==============================] - 2s 35ms/step - loss: 0.6403 - accuracy: 0.6253 - val_loss: 0.5456 - val_accuracy: 0.8325\n",
      "Epoch 2/20\n",
      "30/30 [==============================] - 1s 19ms/step - loss: 0.5239 - accuracy: 0.7611 - val_loss: 0.4333 - val_accuracy: 0.8703\n",
      "Epoch 3/20\n",
      "30/30 [==============================] - 1s 20ms/step - loss: 0.4352 - accuracy: 0.8279 - val_loss: 0.3479 - val_accuracy: 0.8822\n",
      "Epoch 4/20\n",
      "30/30 [==============================] - 1s 20ms/step - loss: 0.3735 - accuracy: 0.8655 - val_loss: 0.3181 - val_accuracy: 0.8852\n",
      "Epoch 5/20\n",
      "30/30 [==============================] - 1s 19ms/step - loss: 0.3302 - accuracy: 0.8847 - val_loss: 0.2946 - val_accuracy: 0.8883\n",
      "Epoch 6/20\n",
      "30/30 [==============================] - 1s 19ms/step - loss: 0.2807 - accuracy: 0.9079 - val_loss: 0.2815 - val_accuracy: 0.8910\n",
      "Epoch 7/20\n",
      "30/30 [==============================] - 1s 19ms/step - loss: 0.2529 - accuracy: 0.9189 - val_loss: 0.2999 - val_accuracy: 0.8861\n",
      "Epoch 8/20\n",
      "30/30 [==============================] - 1s 20ms/step - loss: 0.2245 - accuracy: 0.9302 - val_loss: 0.2912 - val_accuracy: 0.8871\n",
      "Epoch 9/20\n",
      "30/30 [==============================] - 1s 19ms/step - loss: 0.1995 - accuracy: 0.9381 - val_loss: 0.2942 - val_accuracy: 0.8929\n",
      "Epoch 10/20\n",
      "30/30 [==============================] - 1s 20ms/step - loss: 0.1820 - accuracy: 0.9435 - val_loss: 0.3105 - val_accuracy: 0.8931\n",
      "Epoch 11/20\n",
      "30/30 [==============================] - 1s 20ms/step - loss: 0.1675 - accuracy: 0.9483 - val_loss: 0.3236 - val_accuracy: 0.8893\n",
      "Epoch 12/20\n",
      "30/30 [==============================] - 1s 20ms/step - loss: 0.1464 - accuracy: 0.9539 - val_loss: 0.3421 - val_accuracy: 0.8890\n",
      "Epoch 13/20\n",
      "30/30 [==============================] - 1s 20ms/step - loss: 0.1378 - accuracy: 0.9585 - val_loss: 0.3638 - val_accuracy: 0.8894\n",
      "Epoch 14/20\n",
      "30/30 [==============================] - 1s 20ms/step - loss: 0.1264 - accuracy: 0.9598 - val_loss: 0.4333 - val_accuracy: 0.8821\n",
      "Epoch 15/20\n",
      "30/30 [==============================] - 1s 21ms/step - loss: 0.1118 - accuracy: 0.9632 - val_loss: 0.4066 - val_accuracy: 0.8879\n",
      "Epoch 16/20\n",
      "30/30 [==============================] - 1s 20ms/step - loss: 0.1099 - accuracy: 0.9656 - val_loss: 0.4320 - val_accuracy: 0.8865\n",
      "Epoch 17/20\n",
      "30/30 [==============================] - 1s 20ms/step - loss: 0.1037 - accuracy: 0.9659 - val_loss: 0.4724 - val_accuracy: 0.8868\n",
      "Epoch 18/20\n",
      "30/30 [==============================] - 1s 20ms/step - loss: 0.1025 - accuracy: 0.9687 - val_loss: 0.4987 - val_accuracy: 0.8845\n",
      "Epoch 19/20\n",
      "30/30 [==============================] - 1s 20ms/step - loss: 0.0972 - accuracy: 0.9671 - val_loss: 0.5010 - val_accuracy: 0.8856\n",
      "Epoch 20/20\n",
      "30/30 [==============================] - 1s 19ms/step - loss: 0.0910 - accuracy: 0.9693 - val_loss: 0.5188 - val_accuracy: 0.8829\n"
     ]
    }
   ],
   "source": [
    "model = keras.Sequential([\n",
    "    layers.Dense(16, activation=\"relu\"),\n",
    "    layers.Dropout(0.5),\n",
    "    layers.Dense(16, activation=\"relu\"),\n",
    "    layers.Dropout(0.5),\n",
    "    layers.Dense(1, activation=\"sigmoid\")\n",
    "])\n",
    "model.compile(optimizer=\"rmsprop\",\n",
    "              loss=\"binary_crossentropy\",\n",
    "              metrics=[\"accuracy\"])\n",
    "history_dropout = model.fit(\n",
    "    train_data, train_labels,\n",
    "    epochs=20, batch_size=512, validation_split=0.4)"
   ]
  },
  {
   "cell_type": "code",
   "execution_count": null,
   "metadata": {
    "id": "vNx6JfbRWJPF"
   },
   "outputs": [],
   "source": []
  },
  {
   "cell_type": "markdown",
   "metadata": {
    "id": "3B89DolTB5hG"
   },
   "source": [
    "## Summary"
   ]
  }
 ],
 "metadata": {
  "accelerator": "GPU",
  "colab": {
   "collapsed_sections": [],
   "name": "chapter05_fundamentals-of-ml.i",
   "provenance": [],
   "toc_visible": true
  },
  "kernelspec": {
   "display_name": "Python 3",
   "language": "python",
   "name": "python3"
  },
  "language_info": {
   "codemirror_mode": {
    "name": "ipython",
    "version": 3
   },
   "file_extension": ".py",
   "mimetype": "text/x-python",
   "name": "python",
   "nbconvert_exporter": "python",
   "pygments_lexer": "ipython3",
   "version": "3.8.3"
  },
  "toc": {
   "base_numbering": 1,
   "nav_menu": {},
   "number_sections": true,
   "sideBar": true,
   "skip_h1_title": false,
   "title_cell": "Table of Contents",
   "title_sidebar": "Contents",
   "toc_cell": false,
   "toc_position": {
    "height": "calc(100% - 180px)",
    "left": "10px",
    "top": "150px",
    "width": "245.76px"
   },
   "toc_section_display": true,
   "toc_window_display": true
  },
  "varInspector": {
   "cols": {
    "lenName": 16,
    "lenType": 16,
    "lenVar": 40
   },
   "kernels_config": {
    "python": {
     "delete_cmd_postfix": "",
     "delete_cmd_prefix": "del ",
     "library": "var_list.py",
     "varRefreshCmd": "print(var_dic_list())"
    },
    "r": {
     "delete_cmd_postfix": ") ",
     "delete_cmd_prefix": "rm(",
     "library": "var_list.r",
     "varRefreshCmd": "cat(var_dic_list()) "
    }
   },
   "types_to_exclude": [
    "module",
    "function",
    "builtin_function_or_method",
    "instance",
    "_Feature"
   ],
   "window_display": false
  }
 },
 "nbformat": 4,
 "nbformat_minor": 1
}
