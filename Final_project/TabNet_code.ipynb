{
  "nbformat": 4,
  "nbformat_minor": 0,
  "metadata": {
    "colab": {
      "name": "TabNet2.ipynb",
      "provenance": [],
      "collapsed_sections": []
    },
    "kernelspec": {
      "name": "python3",
      "display_name": "Python 3"
    },
    "language_info": {
      "name": "python"
    }
  },
  "cells": [
    {
      "cell_type": "code",
      "source": [
        "pip install pytorch-tabnet"
      ],
      "metadata": {
        "colab": {
          "base_uri": "https://localhost:8080/"
        },
        "id": "4oPKP-tm5d7d",
        "outputId": "3b42ee0f-0220-4e3c-e980-01553e1c529c"
      },
      "execution_count": null,
      "outputs": [
        {
          "output_type": "stream",
          "name": "stdout",
          "text": [
            "Looking in indexes: https://pypi.org/simple, https://us-python.pkg.dev/colab-wheels/public/simple/\n",
            "Collecting pytorch-tabnet\n",
            "  Downloading pytorch_tabnet-3.1.1-py3-none-any.whl (39 kB)\n",
            "Requirement already satisfied: numpy<2.0,>=1.17 in /usr/local/lib/python3.7/dist-packages (from pytorch-tabnet) (1.21.6)\n",
            "Requirement already satisfied: scipy>1.4 in /usr/local/lib/python3.7/dist-packages (from pytorch-tabnet) (1.4.1)\n",
            "Requirement already satisfied: scikit_learn>0.21 in /usr/local/lib/python3.7/dist-packages (from pytorch-tabnet) (1.0.2)\n",
            "Requirement already satisfied: torch<2.0,>=1.2 in /usr/local/lib/python3.7/dist-packages (from pytorch-tabnet) (1.11.0+cu113)\n",
            "Requirement already satisfied: tqdm<5.0,>=4.36 in /usr/local/lib/python3.7/dist-packages (from pytorch-tabnet) (4.64.0)\n",
            "Requirement already satisfied: joblib>=0.11 in /usr/local/lib/python3.7/dist-packages (from scikit_learn>0.21->pytorch-tabnet) (1.1.0)\n",
            "Requirement already satisfied: threadpoolctl>=2.0.0 in /usr/local/lib/python3.7/dist-packages (from scikit_learn>0.21->pytorch-tabnet) (3.1.0)\n",
            "Requirement already satisfied: typing-extensions in /usr/local/lib/python3.7/dist-packages (from torch<2.0,>=1.2->pytorch-tabnet) (4.2.0)\n",
            "Installing collected packages: pytorch-tabnet\n",
            "Successfully installed pytorch-tabnet-3.1.1\n"
          ]
        }
      ]
    },
    {
      "cell_type": "code",
      "execution_count": null,
      "metadata": {
        "id": "ptXVfPri5S3V"
      },
      "outputs": [],
      "source": [
        "import os\n",
        "import numpy as np\n",
        "import pandas as pd\n",
        "from sklearn.metrics import roc_auc_score\n",
        "from sklearn.preprocessing import LabelEncoder\n",
        "from sklearn.model_selection import train_test_split\n",
        "from matplotlib import pyplot as plt\n",
        "\n",
        "import torch\n",
        "import torch.nn as nn\n",
        "from pytorch_tabnet.tab_model import TabNetClassifier"
      ]
    },
    {
      "cell_type": "code",
      "source": [
        "from google.colab import drive\n",
        "drive.mount('/content/drive')"
      ],
      "metadata": {
        "colab": {
          "base_uri": "https://localhost:8080/"
        },
        "id": "hmbAdJzn5d9k",
        "outputId": "5e93f23f-d0e6-4041-df62-57c3fd200678"
      },
      "execution_count": null,
      "outputs": [
        {
          "output_type": "stream",
          "name": "stdout",
          "text": [
            "Mounted at /content/drive\n"
          ]
        }
      ]
    },
    {
      "cell_type": "code",
      "source": [
        "#ver1_train_h1n1 = pd.read_csv('/content/drive/MyDrive/flushot-data/ver1/train_h1n1_ver1.csv', header=None).iloc[1:,1:].reset_index(drop=True)\n",
        "#ver1_test_h1n1 = pd.read_csv('/content/drive/MyDrive/flushot-data/ver1/test_h1n1_ver1.csv', header=None).iloc[1:,1:].reset_index(drop=True)\n",
        "\n",
        "#train = pd.read_csv('/content/drive/MyDrive/flushot-data/census-income.data', header=None)\n",
        "\n",
        "train_h1n1 = pd.read_csv('/content/drive/MyDrive/flushot-data/train_h1n1_no_encoding.csv', header=None).iloc[1:,1:].reset_index(drop=True)\n",
        "test_h1n1 = pd.read_csv('/content/drive/MyDrive/flushot-data/test_h1n1_no_encoding.csv', header=None).iloc[1:,1:].reset_index(drop=True)\n",
        "\n",
        "\n",
        "train_seasonal = pd.read_csv('/content/drive/MyDrive/flushot-data/train_seasonal_no_encoding.csv', header=None).iloc[1:,1:].reset_index(drop=True)\n",
        "test_seasonal = pd.read_csv('/content/drive/MyDrive/flushot-data/test_seasonal_no_encoding.csv', header=None).iloc[1:,1:].reset_index(drop=True)\n",
        "\n",
        "index_df = pd.read_csv('/content/drive/MyDrive/flushot-data/test_h1n1_no_encoding.csv')['respondent_id']\n",
        "\n",
        "# index drop은 안함\n",
        "#train_h1n1 = pd.read_csv('/content/drive/MyDrive/flushot-data/train_h1n1_no_encoding2.csv', header=None).iloc[1:,1:].reset_index(drop=True)\n",
        "#train_seasonal = pd.read_csv('/content/drive/MyDrive/flushot-data/train_seasonal_no_encoding2.csv', header=None).iloc[1:,1:].reset_index(drop=True)"
      ],
      "metadata": {
        "id": "Sl2Ergst52Mv"
      },
      "execution_count": null,
      "outputs": []
    },
    {
      "cell_type": "markdown",
      "source": [
        "# h1n1 vaccine prediction"
      ],
      "metadata": {
        "id": "VoZOgutK1S0m"
      }
    },
    {
      "cell_type": "code",
      "source": [
        "train = train_h1n1\n",
        "target = 23  # 23번째 컬럼\n",
        "if \"Set\" not in train.columns:\n",
        "    train[\"Set\"] = np.random.choice([\"train\", \"valid\"], p =[.8, .2], size=(train.shape[0],))\n",
        "\n",
        "train_indices = train[train.Set==\"train\"].index\n",
        "valid_indices = train[train.Set==\"valid\"].index\n",
        "\n",
        "test_h1n1[23] = '100'\n",
        "test_h1n1[\"Set\"] = 'test'\n",
        "train = pd.concat([train, test_h1n1], axis = 0).reset_index(drop=True)\n",
        "\n",
        "test_indices = train[train.Set==\"test\"].index"
      ],
      "metadata": {
        "id": "nFykOnNfrblf"
      },
      "execution_count": null,
      "outputs": []
    },
    {
      "cell_type": "code",
      "source": [
        "nunique = train.nunique()\n",
        "types = train.dtypes\n",
        "print(nunique)\n",
        "categorical_columns = []\n",
        "categorical_dims =  {}\n",
        "for col in train.columns:\n",
        "    if types[col] == 'object' or nunique[col] < 200:\n",
        "        print(col, train[col].nunique())\n",
        "        l_enc = LabelEncoder()\n",
        "        train[col] = train[col].fillna(\"-\")\n",
        "        train[col] = l_enc.fit_transform(train[col].values)\n",
        "        categorical_columns.append(col)\n",
        "        categorical_dims[col] = len(l_enc.classes_)\n",
        "    else:\n",
        "        train.fillna(train.loc[train_indices, col].mean(), inplace=True)\n",
        "\n",
        "\n",
        "# Categorical Embedding을 위해 Categorical 변수의 차원과 idxs를 담음.\n",
        "unused_feat = ['Set']\n",
        "features = [ col for col in train.columns if col not in unused_feat+[target]] \n",
        "cat_idxs = [ i for i, f in enumerate(features) if f in categorical_columns]\n",
        "cat_dims = [ categorical_dims[f] for i, f in enumerate(features) if f in categorical_columns]\n",
        "\n",
        "\n",
        "X_train = train[features].values[train_indices]\n",
        "y_train = train[target].values[train_indices]\n",
        "\n",
        "X_valid = train[features].values[valid_indices]\n",
        "y_valid = train[target].values[valid_indices]\n",
        "\n",
        "X_test = train[features].values[test_indices]\n",
        "y_test = train[target].values[test_indices]"
      ],
      "metadata": {
        "colab": {
          "base_uri": "https://localhost:8080/"
        },
        "id": "gtXPHzJkGUQB",
        "outputId": "a0edb1f8-226c-4289-8127-657a5e5ac9f2"
      },
      "execution_count": null,
      "outputs": [
        {
          "output_type": "stream",
          "name": "stdout",
          "text": [
            "1       4\n",
            "2       3\n",
            "3       2\n",
            "4       2\n",
            "5       2\n",
            "6       2\n",
            "7       2\n",
            "8       2\n",
            "9       2\n",
            "10      2\n",
            "11      2\n",
            "12      2\n",
            "13      5\n",
            "14      5\n",
            "15      5\n",
            "16      5\n",
            "17      4\n",
            "18      2\n",
            "19     10\n",
            "20      3\n",
            "21      4\n",
            "22      4\n",
            "23      3\n",
            "Set     3\n",
            "dtype: int64\n",
            "1 4\n",
            "2 3\n",
            "3 2\n",
            "4 2\n",
            "5 2\n",
            "6 2\n",
            "7 2\n",
            "8 2\n",
            "9 2\n",
            "10 2\n",
            "11 2\n",
            "12 2\n",
            "13 5\n",
            "14 5\n",
            "15 5\n",
            "16 5\n",
            "17 4\n",
            "18 2\n",
            "19 10\n",
            "20 3\n",
            "21 4\n",
            "22 4\n",
            "23 3\n",
            "Set 3\n"
          ]
        }
      ]
    },
    {
      "cell_type": "code",
      "source": [
        "print(cat_idxs)\n",
        "print(cat_dims)"
      ],
      "metadata": {
        "colab": {
          "base_uri": "https://localhost:8080/"
        },
        "id": "RrnYnI3gJY1O",
        "outputId": "d52937f4-6df8-466b-d47c-2a5b29f946ca"
      },
      "execution_count": null,
      "outputs": [
        {
          "output_type": "stream",
          "name": "stdout",
          "text": [
            "[0, 1, 2, 3, 4, 5, 6, 7, 8, 9, 10, 11, 12, 13, 14, 15, 16, 17, 18, 19, 20, 21]\n",
            "[5, 4, 3, 3, 3, 3, 3, 3, 3, 3, 3, 3, 6, 6, 6, 5, 4, 2, 10, 3, 5, 5]\n"
          ]
        }
      ]
    },
    {
      "cell_type": "code",
      "source": [
        "print(X_train)\n",
        "print(X_train.shape)"
      ],
      "metadata": {
        "colab": {
          "base_uri": "https://localhost:8080/"
        },
        "id": "pD5SMvDwK109",
        "outputId": "0ac066ad-8356-4320-f6ef-cd6e8acc3d47"
      },
      "execution_count": null,
      "outputs": [
        {
          "output_type": "stream",
          "name": "stdout",
          "text": [
            "[[2 1 1 ... 2 1 1]\n",
            " [2 2 1 ... 1 1 1]\n",
            " [3 2 1 ... 0 2 1]\n",
            " ...\n",
            " [2 3 1 ... 1 2 1]\n",
            " [3 3 1 ... 0 1 1]\n",
            " [1 1 1 ... 1 2 1]]\n",
            "(19900, 22)\n"
          ]
        }
      ]
    },
    {
      "cell_type": "code",
      "source": [
        "y_train.shape"
      ],
      "metadata": {
        "colab": {
          "base_uri": "https://localhost:8080/"
        },
        "id": "4NVFeBfmv0lP",
        "outputId": "7db4614e-99bb-4f3e-9d7d-11e1e770e193"
      },
      "execution_count": null,
      "outputs": [
        {
          "output_type": "execute_result",
          "data": {
            "text/plain": [
              "(19900,)"
            ]
          },
          "metadata": {},
          "execution_count": 99
        }
      ]
    },
    {
      "cell_type": "code",
      "source": [
        "print(X_test)\n",
        "print(X_test.shape)"
      ],
      "metadata": {
        "colab": {
          "base_uri": "https://localhost:8080/"
        },
        "id": "GmBUEIlZLlSl",
        "outputId": "c14c5768-7415-478c-8bf2-a0f848ae83d3"
      },
      "execution_count": null,
      "outputs": [
        {
          "output_type": "stream",
          "name": "stdout",
          "text": [
            "[[3 3 1 ... 0 2 1]\n",
            " [2 2 1 ... 2 4 1]\n",
            " [3 3 1 ... 2 2 1]\n",
            " ...\n",
            " [1 2 1 ... 0 2 1]\n",
            " [4 2 1 ... 0 2 1]\n",
            " [3 2 1 ... 1 1 1]]\n",
            "(26708, 22)\n"
          ]
        }
      ]
    },
    {
      "cell_type": "code",
      "source": [
        "clf = TabNetClassifier(\n",
        "                      cat_idxs=cat_idxs,\n",
        "                      cat_dims=cat_dims,\n",
        "                      # define your embedding sizes : here just a random choice\n",
        "                      cat_emb_dim=1,\n",
        "                      optimizer_fn=torch.optim.Adam,\n",
        "                      optimizer_params=dict(lr=2e-2),\n",
        "                      scheduler_params={\"step_size\":50,\n",
        "                                        \"gamma\":0.9},\n",
        "                      scheduler_fn=torch.optim.lr_scheduler.StepLR,\n",
        "                      mask_type='sparsemax',\n",
        "                      n_steps = 2\n",
        "                      )"
      ],
      "metadata": {
        "colab": {
          "base_uri": "https://localhost:8080/"
        },
        "id": "XP-mTbr352Rf",
        "outputId": "9b61bf41-869b-4c29-bba8-2aea27063507"
      },
      "execution_count": null,
      "outputs": [
        {
          "output_type": "stream",
          "name": "stdout",
          "text": [
            "Device used : cpu\n"
          ]
        }
      ]
    },
    {
      "cell_type": "code",
      "source": [
        "max_epochs = 50\n",
        "\n",
        "history1 = clf.fit(\n",
        "    X_train=X_train, y_train=y_train,\n",
        "    eval_set=[(X_train, y_train), (X_valid, y_valid)],\n",
        "    eval_name=['train', 'valid'],\n",
        "    eval_metric=['auc'],\n",
        "    max_epochs=max_epochs , patience=20,\n",
        "    batch_size=1024, virtual_batch_size=128,\n",
        "    num_workers=0,\n",
        "    weights=1,\n",
        "    drop_last=False,\n",
        ")"
      ],
      "metadata": {
        "colab": {
          "base_uri": "https://localhost:8080/"
        },
        "id": "IOXFH2q1HARh",
        "outputId": "833b12c3-4117-48fa-9dd8-5bc35832487a"
      },
      "execution_count": null,
      "outputs": [
        {
          "output_type": "stream",
          "name": "stdout",
          "text": [
            "epoch 0  | loss: 0.70464 | train_auc: 0.64263 | valid_auc: 0.63371 |  0:00:01s\n",
            "epoch 1  | loss: 0.6317  | train_auc: 0.71178 | valid_auc: 0.71519 |  0:00:02s\n",
            "epoch 2  | loss: 0.60214 | train_auc: 0.71983 | valid_auc: 0.72029 |  0:00:03s\n",
            "epoch 3  | loss: 0.58993 | train_auc: 0.75232 | valid_auc: 0.75623 |  0:00:04s\n",
            "epoch 4  | loss: 0.57525 | train_auc: 0.76245 | valid_auc: 0.76396 |  0:00:05s\n",
            "epoch 5  | loss: 0.57394 | train_auc: 0.76487 | valid_auc: 0.76998 |  0:00:06s\n",
            "epoch 6  | loss: 0.57286 | train_auc: 0.76914 | valid_auc: 0.77117 |  0:00:07s\n",
            "epoch 7  | loss: 0.56129 | train_auc: 0.7735  | valid_auc: 0.77739 |  0:00:08s\n",
            "epoch 8  | loss: 0.56792 | train_auc: 0.77597 | valid_auc: 0.77967 |  0:00:09s\n",
            "epoch 9  | loss: 0.56327 | train_auc: 0.7789  | valid_auc: 0.78031 |  0:00:11s\n",
            "epoch 10 | loss: 0.55619 | train_auc: 0.78191 | valid_auc: 0.78401 |  0:00:12s\n",
            "epoch 11 | loss: 0.56609 | train_auc: 0.7815  | valid_auc: 0.78428 |  0:00:13s\n",
            "epoch 12 | loss: 0.55907 | train_auc: 0.78555 | valid_auc: 0.78283 |  0:00:14s\n",
            "epoch 13 | loss: 0.55973 | train_auc: 0.78741 | valid_auc: 0.78362 |  0:00:15s\n",
            "epoch 14 | loss: 0.56192 | train_auc: 0.78937 | valid_auc: 0.78537 |  0:00:16s\n",
            "epoch 15 | loss: 0.55496 | train_auc: 0.79186 | valid_auc: 0.78529 |  0:00:17s\n",
            "epoch 16 | loss: 0.55114 | train_auc: 0.79323 | valid_auc: 0.78484 |  0:00:18s\n",
            "epoch 17 | loss: 0.55555 | train_auc: 0.79145 | valid_auc: 0.78217 |  0:00:19s\n",
            "epoch 18 | loss: 0.55676 | train_auc: 0.79595 | valid_auc: 0.7806  |  0:00:20s\n",
            "epoch 19 | loss: 0.55138 | train_auc: 0.79684 | valid_auc: 0.7797  |  0:00:22s\n",
            "epoch 20 | loss: 0.55259 | train_auc: 0.79687 | valid_auc: 0.78312 |  0:00:23s\n",
            "epoch 21 | loss: 0.54946 | train_auc: 0.79607 | valid_auc: 0.78239 |  0:00:24s\n",
            "epoch 22 | loss: 0.55145 | train_auc: 0.79558 | valid_auc: 0.78538 |  0:00:25s\n",
            "epoch 23 | loss: 0.54809 | train_auc: 0.7976  | valid_auc: 0.78593 |  0:00:26s\n",
            "epoch 24 | loss: 0.55597 | train_auc: 0.79866 | valid_auc: 0.78284 |  0:00:28s\n",
            "epoch 25 | loss: 0.5522  | train_auc: 0.80169 | valid_auc: 0.78151 |  0:00:29s\n",
            "epoch 26 | loss: 0.5469  | train_auc: 0.80253 | valid_auc: 0.77771 |  0:00:31s\n",
            "epoch 27 | loss: 0.54646 | train_auc: 0.80282 | valid_auc: 0.78069 |  0:00:32s\n",
            "epoch 28 | loss: 0.54292 | train_auc: 0.80578 | valid_auc: 0.78184 |  0:00:33s\n",
            "epoch 29 | loss: 0.54093 | train_auc: 0.80392 | valid_auc: 0.77521 |  0:00:34s\n",
            "epoch 30 | loss: 0.53486 | train_auc: 0.80889 | valid_auc: 0.77928 |  0:00:35s\n",
            "epoch 31 | loss: 0.54231 | train_auc: 0.80775 | valid_auc: 0.78386 |  0:00:36s\n",
            "epoch 32 | loss: 0.5428  | train_auc: 0.80839 | valid_auc: 0.77934 |  0:00:37s\n",
            "epoch 33 | loss: 0.54253 | train_auc: 0.81197 | valid_auc: 0.7801  |  0:00:38s\n",
            "epoch 34 | loss: 0.52566 | train_auc: 0.80948 | valid_auc: 0.77381 |  0:00:39s\n",
            "epoch 35 | loss: 0.53388 | train_auc: 0.81137 | valid_auc: 0.77945 |  0:00:41s\n",
            "epoch 36 | loss: 0.53824 | train_auc: 0.81385 | valid_auc: 0.77703 |  0:00:42s\n",
            "epoch 37 | loss: 0.53306 | train_auc: 0.81287 | valid_auc: 0.77522 |  0:00:43s\n",
            "epoch 38 | loss: 0.53311 | train_auc: 0.81712 | valid_auc: 0.77757 |  0:00:44s\n",
            "epoch 39 | loss: 0.53049 | train_auc: 0.81739 | valid_auc: 0.76913 |  0:00:45s\n",
            "epoch 40 | loss: 0.5291  | train_auc: 0.81642 | valid_auc: 0.77095 |  0:00:46s\n",
            "epoch 41 | loss: 0.53276 | train_auc: 0.82066 | valid_auc: 0.77022 |  0:00:47s\n",
            "epoch 42 | loss: 0.52347 | train_auc: 0.81763 | valid_auc: 0.77454 |  0:00:48s\n",
            "epoch 43 | loss: 0.52469 | train_auc: 0.8222  | valid_auc: 0.77076 |  0:00:49s\n",
            "\n",
            "Early stopping occurred at epoch 43 with best_epoch = 23 and best_valid_auc = 0.78593\n",
            "Best weights from best epoch are automatically used!\n"
          ]
        }
      ]
    },
    {
      "cell_type": "code",
      "source": [
        "preds1 = clf.predict_proba(X_test)"
      ],
      "metadata": {
        "id": "nyESz4oOHG6-"
      },
      "execution_count": null,
      "outputs": []
    },
    {
      "cell_type": "code",
      "source": [
        "preds1[:,1]"
      ],
      "metadata": {
        "id": "4kCqXuElAByz",
        "colab": {
          "base_uri": "https://localhost:8080/"
        },
        "outputId": "53c9189d-995f-4417-90d9-8e551fb25348"
      },
      "execution_count": null,
      "outputs": [
        {
          "output_type": "execute_result",
          "data": {
            "text/plain": [
              "array([0.4662373 , 0.2699048 , 0.75180584, ..., 0.19190265, 0.1861991 ,\n",
              "       0.40661845], dtype=float32)"
            ]
          },
          "metadata": {},
          "execution_count": 15
        }
      ]
    },
    {
      "cell_type": "code",
      "source": [
        "import matplotlib.pyplot as plt\n",
        "history_dict = history1\n",
        "loss_values = history_dict[\"loss\"]\n",
        "val_loss_values = history_dict[\"val_loss\"]\n",
        "epochs = range(1, len(loss_values) + 1)\n",
        "plt.plot(epochs, loss_values, \"bo\", label=\"Training loss\")\n",
        "plt.plot(epochs, val_loss_values, \"b\", label=\"Validation loss\")\n",
        "plt.title(\"Training and validation loss\")\n",
        "plt.xlabel(\"Epochs\")\n",
        "plt.ylabel(\"Loss\")\n",
        "plt.legend()\n",
        "plt.show()"
      ],
      "metadata": {
        "colab": {
          "base_uri": "https://localhost:8080/",
          "height": 246
        },
        "id": "ptupmB4YvhRY",
        "outputId": "d7d927fd-b41c-4068-d202-776f86ce559d"
      },
      "execution_count": null,
      "outputs": [
        {
          "output_type": "error",
          "ename": "TypeError",
          "evalue": "ignored",
          "traceback": [
            "\u001b[0;31m---------------------------------------------------------------------------\u001b[0m",
            "\u001b[0;31mTypeError\u001b[0m                                 Traceback (most recent call last)",
            "\u001b[0;32m<ipython-input-17-4e88ee14c9d0>\u001b[0m in \u001b[0;36m<module>\u001b[0;34m()\u001b[0m\n\u001b[1;32m      1\u001b[0m \u001b[0;32mimport\u001b[0m \u001b[0mmatplotlib\u001b[0m\u001b[0;34m.\u001b[0m\u001b[0mpyplot\u001b[0m \u001b[0;32mas\u001b[0m \u001b[0mplt\u001b[0m\u001b[0;34m\u001b[0m\u001b[0;34m\u001b[0m\u001b[0m\n\u001b[1;32m      2\u001b[0m \u001b[0mhistory_dict\u001b[0m \u001b[0;34m=\u001b[0m \u001b[0mhistory1\u001b[0m\u001b[0;34m\u001b[0m\u001b[0;34m\u001b[0m\u001b[0m\n\u001b[0;32m----> 3\u001b[0;31m \u001b[0mloss_values\u001b[0m \u001b[0;34m=\u001b[0m \u001b[0mhistory_dict\u001b[0m\u001b[0;34m[\u001b[0m\u001b[0;34m\"loss\"\u001b[0m\u001b[0;34m]\u001b[0m\u001b[0;34m\u001b[0m\u001b[0;34m\u001b[0m\u001b[0m\n\u001b[0m\u001b[1;32m      4\u001b[0m \u001b[0mval_loss_values\u001b[0m \u001b[0;34m=\u001b[0m \u001b[0mhistory_dict\u001b[0m\u001b[0;34m[\u001b[0m\u001b[0;34m\"val_loss\"\u001b[0m\u001b[0;34m]\u001b[0m\u001b[0;34m\u001b[0m\u001b[0;34m\u001b[0m\u001b[0m\n\u001b[1;32m      5\u001b[0m \u001b[0mepochs\u001b[0m \u001b[0;34m=\u001b[0m \u001b[0mrange\u001b[0m\u001b[0;34m(\u001b[0m\u001b[0;36m1\u001b[0m\u001b[0;34m,\u001b[0m \u001b[0mlen\u001b[0m\u001b[0;34m(\u001b[0m\u001b[0mloss_values\u001b[0m\u001b[0;34m)\u001b[0m \u001b[0;34m+\u001b[0m \u001b[0;36m1\u001b[0m\u001b[0;34m)\u001b[0m\u001b[0;34m\u001b[0m\u001b[0;34m\u001b[0m\u001b[0m\n",
            "\u001b[0;31mTypeError\u001b[0m: 'NoneType' object is not subscriptable"
          ]
        }
      ]
    },
    {
      "cell_type": "markdown",
      "source": [
        "# seasonal vaccien prediction"
      ],
      "metadata": {
        "id": "KZJ8-tT91gGX"
      }
    },
    {
      "cell_type": "code",
      "source": [
        "train = train_seasonal\n",
        "\n",
        "target = 21  # 21번째 컬럼\n",
        "if \"Set\" not in train.columns:\n",
        "    train[\"Set\"] = np.random.choice([\"train\", \"valid\"], p =[.8, .2], size=(train.shape[0],))\n",
        "\n",
        "train_indices = train[train.Set==\"train\"].index\n",
        "valid_indices = train[train.Set==\"valid\"].index\n",
        "\n",
        "test_seasonal[21] = '100'\n",
        "test_seasonal[\"Set\"] = 'test'\n",
        "train = pd.concat([train, test_seasonal], axis = 0).reset_index(drop=True)\n",
        "\n",
        "test_indices = train[train.Set==\"test\"].index"
      ],
      "metadata": {
        "id": "2Rs5k89K1fCF"
      },
      "execution_count": null,
      "outputs": []
    },
    {
      "cell_type": "code",
      "source": [
        "nunique = train.nunique()\n",
        "types = train.dtypes\n",
        "print(nunique)\n",
        "categorical_columns = []\n",
        "categorical_dims =  {}\n",
        "for col in train.columns:\n",
        "    if types[col] == 'object' or nunique[col] < 200:\n",
        "        print(col, train[col].nunique())\n",
        "        l_enc = LabelEncoder()\n",
        "        train[col] = train[col].fillna(\"-\")\n",
        "        train[col] = l_enc.fit_transform(train[col].values)\n",
        "        categorical_columns.append(col)\n",
        "        categorical_dims[col] = len(l_enc.classes_)\n",
        "    else:\n",
        "        train.fillna(train.loc[train_indices, col].mean(), inplace=True)\n",
        "\n",
        "\n",
        "# Categorical Embedding을 위해 Categorical 변수의 차원과 idxs를 담음.\n",
        "unused_feat = ['Set']\n",
        "features = [ col for col in train.columns if col not in unused_feat+[target]] \n",
        "cat_idxs = [ i for i, f in enumerate(features) if f in categorical_columns]\n",
        "cat_dims = [ categorical_dims[f] for i, f in enumerate(features) if f in categorical_columns]\n",
        "\n",
        "\n",
        "X_train = train[features].values[train_indices]\n",
        "y_train = train[target].values[train_indices]\n",
        "\n",
        "X_valid = train[features].values[valid_indices]\n",
        "y_valid = train[target].values[valid_indices]\n",
        "\n",
        "X_test = train[features].values[test_indices]\n",
        "y_test = train[target].values[test_indices]"
      ],
      "metadata": {
        "id": "Yq1XKpa-1fG4"
      },
      "execution_count": null,
      "outputs": []
    },
    {
      "cell_type": "code",
      "source": [
        "clf = TabNetClassifier(\n",
        "                      cat_idxs=cat_idxs,\n",
        "                      cat_dims=cat_dims,\n",
        "                      # define your embedding sizes : here just a random choice\n",
        "                      cat_emb_dim=1,\n",
        "                      optimizer_fn=torch.optim.Adam,\n",
        "                      optimizer_params=dict(lr=2e-2),\n",
        "                      scheduler_params={\"step_size\":50,\n",
        "                                        \"gamma\":0.9},\n",
        "                      scheduler_fn=torch.optim.lr_scheduler.StepLR,\n",
        "                      mask_type='sparsemax',\n",
        "                      n_steps = 2\n",
        "                       \n",
        "                      )"
      ],
      "metadata": {
        "id": "ARraLJvg1fJF"
      },
      "execution_count": null,
      "outputs": []
    },
    {
      "cell_type": "code",
      "source": [
        "max_epochs = 50\n",
        "\n",
        "clf.fit(\n",
        "    X_train=X_train, y_train=y_train,\n",
        "    eval_set=[(X_train, y_train), (X_valid, y_valid)],\n",
        "    eval_name=['train', 'valid'],\n",
        "    eval_metric=['auc'],\n",
        "    max_epochs=max_epochs , patience=20,\n",
        "    batch_size=1024, virtual_batch_size=128,\n",
        "    num_workers=0,\n",
        "    weights=1,\n",
        "    drop_last=False,\n",
        ")"
      ],
      "metadata": {
        "id": "20jZO6V01fLl"
      },
      "execution_count": null,
      "outputs": []
    },
    {
      "cell_type": "code",
      "source": [
        "preds2 = clf.predict_proba(X_test)"
      ],
      "metadata": {
        "id": "wSivURl0Mhz6"
      },
      "execution_count": null,
      "outputs": []
    },
    {
      "cell_type": "code",
      "source": [
        "preds2[:,1]"
      ],
      "metadata": {
        "id": "JWG1OIpcMh2e"
      },
      "execution_count": null,
      "outputs": []
    },
    {
      "cell_type": "code",
      "source": [
        "submit = pd.DataFrame({'respondent_id': index_df,\n",
        "                       'h1n1_vaccine': preds1[:,1],\n",
        "                       'seasonal_vaccine': preds2[:,1] })"
      ],
      "metadata": {
        "id": "levXJTIOMh5A"
      },
      "execution_count": null,
      "outputs": []
    },
    {
      "cell_type": "code",
      "source": [
        "# 2e-2 -> 0.7727\n",
        "submit.to_csv('/content/drive/MyDrive/flushot-data/tabnet_result_epoch15.csv', index = False)"
      ],
      "metadata": {
        "id": "3PZYV5aTR2zD"
      },
      "execution_count": null,
      "outputs": []
    },
    {
      "cell_type": "code",
      "source": [
        "# 2e-2 -> 0.7896\n",
        "submit.to_csv('/content/drive/MyDrive/flushot-data/tabnet_result_epoch30.csv', index = False)"
      ],
      "metadata": {
        "id": "d3YQP6nlTMxD"
      },
      "execution_count": null,
      "outputs": []
    },
    {
      "cell_type": "code",
      "source": [
        "# 2e-2 -> 0.7885\n",
        "submit.to_csv('/content/drive/MyDrive/flushot-data/tabnet_result_epoch50.csv', index = False)"
      ],
      "metadata": {
        "id": "C0LkvWWBhTPI"
      },
      "execution_count": null,
      "outputs": []
    },
    {
      "cell_type": "code",
      "source": [
        "# 2e-2 -> 0.79080\n",
        "submit.to_csv('/content/drive/MyDrive/flushot-data/tabnet_result_epoch50_step2.csv', index = False)"
      ],
      "metadata": {
        "id": "vTjg3sgOizMj"
      },
      "execution_count": null,
      "outputs": []
    },
    {
      "cell_type": "code",
      "source": [
        "# 2e-2 -> 0.7842\n",
        "submit.to_csv('/content/drive/MyDrive/flushot-data/tabnet_result_epoch50_step2_nd16.csv', index = False)"
      ],
      "metadata": {
        "id": "Dmp0PkBRkk1r"
      },
      "execution_count": null,
      "outputs": []
    },
    {
      "cell_type": "code",
      "source": [
        "# 2e-2 -> 0.7804\n",
        "submit.to_csv('/content/drive/MyDrive/flushot-data/tabnet_result_epoch50_step2_nd16_na16.csv', index = False)"
      ],
      "metadata": {
        "id": "yUngW8j_lgUt"
      },
      "execution_count": null,
      "outputs": []
    },
    {
      "cell_type": "code",
      "source": [
        "# 2e-2 -> 0.7889\n",
        "submit.to_csv('/content/drive/MyDrive/flushot-data/tabnet_result_epoch50_step1.csv', index = False)"
      ],
      "metadata": {
        "id": "93DaK0ifjuuX"
      },
      "execution_count": null,
      "outputs": []
    },
    {
      "cell_type": "code",
      "source": [
        "# 2e-2 -> / epoch 500 / pat = 20 => 7814\n",
        "submit.to_csv('/content/drive/MyDrive/flushot-data/tabnet_result_epoch500.csv', index = False)"
      ],
      "metadata": {
        "id": "3gsCfsuqUJPT"
      },
      "execution_count": null,
      "outputs": []
    },
    {
      "cell_type": "code",
      "source": [
        "# 2e-2 / epoch 100  / pat = 20 => 0.7814\n",
        "submit.to_csv('/content/drive/MyDrive/flushot-data/tabnet_result_epoch100.csv', index = False)"
      ],
      "metadata": {
        "id": "_ruNdFmSWcrs"
      },
      "execution_count": null,
      "outputs": []
    },
    {
      "cell_type": "code",
      "source": [
        "# 2e-3 / epoch 500  => 0.7770\n",
        "submit.to_csv('/content/drive/MyDrive/flushot-data/tabnet_result_epoch500.csv', index = False)"
      ],
      "metadata": {
        "id": "DPK9Rd49Wd1b"
      },
      "execution_count": null,
      "outputs": []
    },
    {
      "cell_type": "code",
      "source": [
        "# 2e-3 / without_index_drop / epoch 100 => 0.7730\n",
        "submit.to_csv('/content/drive/MyDrive/flushot-data/tabnet_result_epoch100_no_drop.csv', index = False)"
      ],
      "metadata": {
        "id": "-sY2hv6Sg6eM"
      },
      "execution_count": null,
      "outputs": []
    }
  ]
}